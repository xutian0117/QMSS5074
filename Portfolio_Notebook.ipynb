{
  "nbformat": 4,
  "nbformat_minor": 0,
  "metadata": {
    "colab": {
      "provenance": []
    },
    "kernelspec": {
      "name": "python3",
      "display_name": "Python 3"
    },
    "language_info": {
      "name": "python"
    }
  },
  "cells": [
    {
      "cell_type": "markdown",
      "source": [
        "#Portfolio\n",
        "## Tian Xu\n",
        "## QMSS 5074\n",
        "\n",
        "This Jupyter Notebook presents a comprehensive overview of each project I worked on for QMSS5074. It includes detailed descriptions, insights gained, and links to the individual project notebooks."
      ],
      "metadata": {
        "id": "LT166B8bwPlz"
      }
    },
    {
      "cell_type": "markdown",
      "source": [
        "## Assignment 1\n",
        "In this project, I explored and applied four classification models to predict World Happiness. The report includes extensive exploratory data analysis (EDA), feature examination, and model selection, culminating in a submission to the World Happiness AI Model Share competition. The Decision Tree Classifier emerged as the top-performing model with a Precision of 68.07% and Recall of 53.76%. Key hyperparameters for this model were:"
      ],
      "metadata": {
        "id": "DfcdzN_dySs1"
      }
    },
    {
      "cell_type": "markdown",
      "source": [
        "## Assignment 2\n",
        "This assignment focused on classifying X-ray images into categories like COVID-19, Normal, and Viral Pneumonia. I utilized three models, including the VGG16 model with Transfer Learning and Data Augmentation. The models achieved validation accuracies of approximately 91.26% and 90.16%. The use of pre-trained VGG16 model and strategies like data augmentation significantly enhanced their performance. This project demonstrates the potential of deep learning in healthcare, especially for automated disease diagnosis."
      ],
      "metadata": {
        "id": "QZYjSkZXyUQv"
      }
    },
    {
      "cell_type": "markdown",
      "source": [
        "## Assignment 3\n",
        "The third assignment involved sentiment analysis of IMDb movie reviews. The best-performing model (Model 2) included an Embedding layer with 10,000 words, two Conv1D layers, GlobalMaxPooling1D, and a Dense layer with sigmoid activation. It was trained over 10 epochs, with a batch size of 32 and a 20% validation split. The Conv1D layers were particularly effective in capturing the nuances of the text data, leading to high accuracy."
      ],
      "metadata": {
        "id": "87TkQNWEyV2k"
      }
    }
  ]
}