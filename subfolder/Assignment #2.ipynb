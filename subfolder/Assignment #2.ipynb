{
  "cells": [
    {
      "cell_type": "markdown",
      "metadata": {
        "id": "UlF1y162rf4Q"
      },
      "source": [
        "# Tian Xu Assignment 2\n",
        "\n",
        "This is the assignment 2 for course QMSS5074"
      ]
    },
    {
      "cell_type": "markdown",
      "metadata": {
        "id": "KYf41O75Husu"
      },
      "source": [
        "## Prepare the data"
      ]
    },
    {
      "cell_type": "markdown",
      "metadata": {
        "id": "537sDLfmSaVy"
      },
      "source": [
        "## 1. Use Google Drive link to view a folder I shared with @columbia.edu google drive users\n",
        "https://drive.google.com/drive/folders/18O-BnGOIw9ZiUwy17Uk_361xyfTF-qAN?usp=sharing\n",
        "## 2. After opening this link, right click this new folder and click \"Add shortcut to Drive\"\n",
        "This will be sure the zipfile in this folder is accessible in your personal drive folder\n"
      ]
    },
    {
      "cell_type": "code",
      "execution_count": 2,
      "metadata": {
        "colab": {
          "base_uri": "https://localhost:8080/"
        },
        "id": "3GuTB3NnSxka",
        "outputId": "e38764e8-1569-49f1-fb9d-d1dce5de1666"
      },
      "outputs": [
        {
          "output_type": "stream",
          "name": "stdout",
          "text": [
            "Drive already mounted at /content/drive; to attempt to forcibly remount, call drive.mount(\"/content/drive\", force_remount=True).\n"
          ]
        }
      ],
      "source": [
        "# Connect to google drive\n",
        "import os\n",
        "from google.colab import drive\n",
        "drive.mount('/content/drive')\n",
        "\n",
        "# content in your drive is now available via \"/content/drive/My Drive\"\n"
      ]
    },
    {
      "cell_type": "code",
      "execution_count": 3,
      "metadata": {
        "colab": {
          "base_uri": "https://localhost:8080/"
        },
        "id": "UaYvUwBUqvvx",
        "outputId": "95cccd41-31bb-48e7-f946-31d00900db5a"
      },
      "outputs": [
        {
          "output_type": "stream",
          "name": "stdout",
          "text": [
            "/content/drive/MyDrive/Untitled folder\n"
          ]
        }
      ],
      "source": [
        "%cd /content/drive/MyDrive/Untitled folder\n",
        "\n"
      ]
    },
    {
      "cell_type": "code",
      "execution_count": 4,
      "metadata": {
        "id": "Mu2zq86HwZFU"
      },
      "outputs": [],
      "source": [
        "# Load libraries and then download data\n",
        "\n",
        "import sys\n",
        "import time\n",
        "import cv2\n",
        "import numpy as np\n",
        "from matplotlib import pyplot as plt\n",
        "import tensorflow as tf\n",
        "import os\n",
        "import zipfile\n",
        "\n",
        "from sklearn.model_selection import train_test_split\n",
        "\n",
        "from tensorflow.python.keras.utils import np_utils\n",
        "from tensorflow.keras.models import Sequential, Model\n",
        "from tensorflow.keras.layers import Dense, Dropout, Flatten, Activation, BatchNormalization\n",
        "from tensorflow.python.keras.layers.convolutional import Conv2D, MaxPooling2D\n",
        "from tensorflow.keras.preprocessing.image import ImageDataGenerator\n",
        "from tensorflow.keras.optimizers import Adam,SGD,Adagrad,Adadelta,RMSprop\n",
        "from tensorflow.keras.applications import VGG19, ResNet50, InceptionV3\n"
      ]
    },
    {
      "cell_type": "code",
      "execution_count": 5,
      "metadata": {
        "colab": {
          "base_uri": "https://localhost:8080/"
        },
        "id": "dWzvKPdewbLz",
        "outputId": "d0bbf23d-1e7a-4227-a839-d198dbb36bc6"
      },
      "outputs": [
        {
          "output_type": "stream",
          "name": "stdout",
          "text": [
            "number of images for each category: [3616, 10192, 1345]\n"
          ]
        }
      ],
      "source": [
        "# Extracting all filenames iteratively\n",
        "base_path = 'COVID-19_Radiography_Dataset'\n",
        "categories = ['COVID/images', 'Normal/images', 'Viral Pneumonia/images']\n",
        "\n",
        "# load file names to fnames list object\n",
        "fnames = []\n",
        "for category in categories:\n",
        "    image_folder = os.path.join(base_path, category)\n",
        "    file_names = os.listdir(image_folder)\n",
        "    full_path = [os.path.join(image_folder, file_name) for file_name in file_names]\n",
        "    fnames.append(full_path)\n",
        "\n",
        "print('number of images for each category:', [len(f) for f in fnames])\n"
      ]
    },
    {
      "cell_type": "code",
      "execution_count": 6,
      "metadata": {
        "id": "4u-QBVz8fGYR"
      },
      "outputs": [],
      "source": [
        "#Reduce number of images to first 1345 for each category\n",
        "fnames[0]=fnames[0][0:1344]\n",
        "fnames[1]=fnames[1][0:1344]\n",
        "fnames[2]=fnames[2][0:1344]"
      ]
    },
    {
      "cell_type": "code",
      "execution_count": 7,
      "metadata": {
        "colab": {
          "base_uri": "https://localhost:8080/"
        },
        "id": "DR9fq2m_wx3V",
        "outputId": "0a6c1c2a-b61c-492c-9935-817f82736307"
      },
      "outputs": [
        {
          "output_type": "execute_result",
          "data": {
            "text/plain": [
              "(192, 192, 3)"
            ]
          },
          "metadata": {},
          "execution_count": 7
        }
      ],
      "source": [
        "# Import image, load to array of shape height, width, channels, then min/max transform.\n",
        "# Write preprocessor that will match up with model's expected input shape.\n",
        "from keras.preprocessing import image\n",
        "import numpy as np\n",
        "from PIL import Image\n",
        "\n",
        "def preprocessor(img_path):\n",
        "        img = Image.open(img_path).convert(\"RGB\").resize((192,192)) # import image, make sure it's RGB and resize to height and width you want.\n",
        "        img = (np.float32(img)-1.)/(255-1.) # min max transformation\n",
        "        img=img.reshape((192,192,3)) # Create final shape as array with correct dimensions for Keras\n",
        "        return img\n",
        "\n",
        "\n",
        "\n",
        "#Try on single flower file (imports file and preprocesses it to data with following shape)\n",
        "preprocessor('COVID-19_Radiography_Dataset/COVID/images/COVID-2273.png').shape"
      ]
    },
    {
      "cell_type": "code",
      "execution_count": 8,
      "metadata": {
        "id": "svHoZ-SXw9qX"
      },
      "outputs": [],
      "source": [
        "#Import image files iteratively and preprocess them into array of correctly structured data\n",
        "\n",
        "# Create list of file paths\n",
        "image_filepaths=fnames[0]+fnames[1]+fnames[2]\n",
        "\n",
        "# Iteratively import and preprocess data using map function\n",
        "\n",
        "# map functions apply your preprocessor function one step at a time to each filepath\n",
        "preprocessed_image_data=list(map(preprocessor,image_filepaths ))\n",
        "\n",
        "# Object needs to be an array rather than a list for Keras (map returns to list object)\n",
        "X= np.array(preprocessed_image_data) # Assigning to X to highlight that this represents feature input data for our model"
      ]
    },
    {
      "cell_type": "code",
      "execution_count": 9,
      "metadata": {
        "colab": {
          "base_uri": "https://localhost:8080/"
        },
        "id": "4fjyLDwbxElq",
        "outputId": "a6cf9e32-46ce-49cb-eec5-75430d8d7248"
      },
      "outputs": [
        {
          "output_type": "execute_result",
          "data": {
            "text/plain": [
              "4032"
            ]
          },
          "metadata": {},
          "execution_count": 9
        }
      ],
      "source": [
        "len(image_filepaths)"
      ]
    },
    {
      "cell_type": "markdown",
      "metadata": {
        "id": "UkWxqc-qP_Ia"
      },
      "source": [
        "### Some information about the the list of preprocessed images"
      ]
    },
    {
      "cell_type": "code",
      "execution_count": 10,
      "metadata": {
        "colab": {
          "base_uri": "https://localhost:8080/"
        },
        "id": "dZ9Xo1ADxK1y",
        "outputId": "548139a0-7a02-451b-bca4-2d7418acc58d"
      },
      "outputs": [
        {
          "output_type": "stream",
          "name": "stdout",
          "text": [
            "4032\n",
            "(4032, 192, 192, 3)\n",
            "-0.0\n",
            "1.0\n"
          ]
        }
      ],
      "source": [
        "print(len(X) ) #same number of elements as filenames\n",
        "print(X.shape ) #dimensions now 192,192,3 for all images\n",
        "print(X.min().round() ) #min value of every image is zero\n",
        "print(X.max() ) #max value of every image is one\n"
      ]
    },
    {
      "cell_type": "code",
      "execution_count": 11,
      "metadata": {
        "colab": {
          "base_uri": "https://localhost:8080/"
        },
        "id": "BAgj1AWigUnb",
        "outputId": "a1114da6-2cfa-4982-db9f-56d51e445bf0"
      },
      "outputs": [
        {
          "output_type": "execute_result",
          "data": {
            "text/plain": [
              "1344"
            ]
          },
          "metadata": {},
          "execution_count": 11
        }
      ],
      "source": [
        "len(fnames[2])"
      ]
    },
    {
      "cell_type": "code",
      "execution_count": 12,
      "metadata": {
        "id": "BFk66JIOQZl7"
      },
      "outputs": [],
      "source": [
        "### one-hot encoding these labels to make them suitable for a machine learning model in Keras."
      ]
    },
    {
      "cell_type": "code",
      "execution_count": 13,
      "metadata": {
        "colab": {
          "base_uri": "https://localhost:8080/",
          "height": 459
        },
        "id": "pU0Da0m8x9_n",
        "outputId": "d4bf42ee-7a0f-4630-90fa-86440683f80d"
      },
      "outputs": [
        {
          "output_type": "stream",
          "name": "stdout",
          "text": [
            "number of images for each category: [1344, 1344, 1344]\n",
            "4032\n"
          ]
        },
        {
          "output_type": "display_data",
          "data": {
            "text/plain": [
              "      COVID  NORMAL  PNEUMONIA\n",
              "0         1       0          0\n",
              "1         1       0          0\n",
              "2         1       0          0\n",
              "3         1       0          0\n",
              "4         1       0          0\n",
              "...     ...     ...        ...\n",
              "4027      0       0          1\n",
              "4028      0       0          1\n",
              "4029      0       0          1\n",
              "4030      0       0          1\n",
              "4031      0       0          1\n",
              "\n",
              "[4032 rows x 3 columns]"
            ],
            "text/html": [
              "\n",
              "  <div id=\"df-6c6b1bba-fa2b-469f-82ff-a16c6ddab972\" class=\"colab-df-container\">\n",
              "    <div>\n",
              "<style scoped>\n",
              "    .dataframe tbody tr th:only-of-type {\n",
              "        vertical-align: middle;\n",
              "    }\n",
              "\n",
              "    .dataframe tbody tr th {\n",
              "        vertical-align: top;\n",
              "    }\n",
              "\n",
              "    .dataframe thead th {\n",
              "        text-align: right;\n",
              "    }\n",
              "</style>\n",
              "<table border=\"1\" class=\"dataframe\">\n",
              "  <thead>\n",
              "    <tr style=\"text-align: right;\">\n",
              "      <th></th>\n",
              "      <th>COVID</th>\n",
              "      <th>NORMAL</th>\n",
              "      <th>PNEUMONIA</th>\n",
              "    </tr>\n",
              "  </thead>\n",
              "  <tbody>\n",
              "    <tr>\n",
              "      <th>0</th>\n",
              "      <td>1</td>\n",
              "      <td>0</td>\n",
              "      <td>0</td>\n",
              "    </tr>\n",
              "    <tr>\n",
              "      <th>1</th>\n",
              "      <td>1</td>\n",
              "      <td>0</td>\n",
              "      <td>0</td>\n",
              "    </tr>\n",
              "    <tr>\n",
              "      <th>2</th>\n",
              "      <td>1</td>\n",
              "      <td>0</td>\n",
              "      <td>0</td>\n",
              "    </tr>\n",
              "    <tr>\n",
              "      <th>3</th>\n",
              "      <td>1</td>\n",
              "      <td>0</td>\n",
              "      <td>0</td>\n",
              "    </tr>\n",
              "    <tr>\n",
              "      <th>4</th>\n",
              "      <td>1</td>\n",
              "      <td>0</td>\n",
              "      <td>0</td>\n",
              "    </tr>\n",
              "    <tr>\n",
              "      <th>...</th>\n",
              "      <td>...</td>\n",
              "      <td>...</td>\n",
              "      <td>...</td>\n",
              "    </tr>\n",
              "    <tr>\n",
              "      <th>4027</th>\n",
              "      <td>0</td>\n",
              "      <td>0</td>\n",
              "      <td>1</td>\n",
              "    </tr>\n",
              "    <tr>\n",
              "      <th>4028</th>\n",
              "      <td>0</td>\n",
              "      <td>0</td>\n",
              "      <td>1</td>\n",
              "    </tr>\n",
              "    <tr>\n",
              "      <th>4029</th>\n",
              "      <td>0</td>\n",
              "      <td>0</td>\n",
              "      <td>1</td>\n",
              "    </tr>\n",
              "    <tr>\n",
              "      <th>4030</th>\n",
              "      <td>0</td>\n",
              "      <td>0</td>\n",
              "      <td>1</td>\n",
              "    </tr>\n",
              "    <tr>\n",
              "      <th>4031</th>\n",
              "      <td>0</td>\n",
              "      <td>0</td>\n",
              "      <td>1</td>\n",
              "    </tr>\n",
              "  </tbody>\n",
              "</table>\n",
              "<p>4032 rows × 3 columns</p>\n",
              "</div>\n",
              "    <div class=\"colab-df-buttons\">\n",
              "\n",
              "  <div class=\"colab-df-container\">\n",
              "    <button class=\"colab-df-convert\" onclick=\"convertToInteractive('df-6c6b1bba-fa2b-469f-82ff-a16c6ddab972')\"\n",
              "            title=\"Convert this dataframe to an interactive table.\"\n",
              "            style=\"display:none;\">\n",
              "\n",
              "  <svg xmlns=\"http://www.w3.org/2000/svg\" height=\"24px\" viewBox=\"0 -960 960 960\">\n",
              "    <path d=\"M120-120v-720h720v720H120Zm60-500h600v-160H180v160Zm220 220h160v-160H400v160Zm0 220h160v-160H400v160ZM180-400h160v-160H180v160Zm440 0h160v-160H620v160ZM180-180h160v-160H180v160Zm440 0h160v-160H620v160Z\"/>\n",
              "  </svg>\n",
              "    </button>\n",
              "\n",
              "  <style>\n",
              "    .colab-df-container {\n",
              "      display:flex;\n",
              "      gap: 12px;\n",
              "    }\n",
              "\n",
              "    .colab-df-convert {\n",
              "      background-color: #E8F0FE;\n",
              "      border: none;\n",
              "      border-radius: 50%;\n",
              "      cursor: pointer;\n",
              "      display: none;\n",
              "      fill: #1967D2;\n",
              "      height: 32px;\n",
              "      padding: 0 0 0 0;\n",
              "      width: 32px;\n",
              "    }\n",
              "\n",
              "    .colab-df-convert:hover {\n",
              "      background-color: #E2EBFA;\n",
              "      box-shadow: 0px 1px 2px rgba(60, 64, 67, 0.3), 0px 1px 3px 1px rgba(60, 64, 67, 0.15);\n",
              "      fill: #174EA6;\n",
              "    }\n",
              "\n",
              "    .colab-df-buttons div {\n",
              "      margin-bottom: 4px;\n",
              "    }\n",
              "\n",
              "    [theme=dark] .colab-df-convert {\n",
              "      background-color: #3B4455;\n",
              "      fill: #D2E3FC;\n",
              "    }\n",
              "\n",
              "    [theme=dark] .colab-df-convert:hover {\n",
              "      background-color: #434B5C;\n",
              "      box-shadow: 0px 1px 3px 1px rgba(0, 0, 0, 0.15);\n",
              "      filter: drop-shadow(0px 1px 2px rgba(0, 0, 0, 0.3));\n",
              "      fill: #FFFFFF;\n",
              "    }\n",
              "  </style>\n",
              "\n",
              "    <script>\n",
              "      const buttonEl =\n",
              "        document.querySelector('#df-6c6b1bba-fa2b-469f-82ff-a16c6ddab972 button.colab-df-convert');\n",
              "      buttonEl.style.display =\n",
              "        google.colab.kernel.accessAllowed ? 'block' : 'none';\n",
              "\n",
              "      async function convertToInteractive(key) {\n",
              "        const element = document.querySelector('#df-6c6b1bba-fa2b-469f-82ff-a16c6ddab972');\n",
              "        const dataTable =\n",
              "          await google.colab.kernel.invokeFunction('convertToInteractive',\n",
              "                                                    [key], {});\n",
              "        if (!dataTable) return;\n",
              "\n",
              "        const docLinkHtml = 'Like what you see? Visit the ' +\n",
              "          '<a target=\"_blank\" href=https://colab.research.google.com/notebooks/data_table.ipynb>data table notebook</a>'\n",
              "          + ' to learn more about interactive tables.';\n",
              "        element.innerHTML = '';\n",
              "        dataTable['output_type'] = 'display_data';\n",
              "        await google.colab.output.renderOutput(dataTable, element);\n",
              "        const docLink = document.createElement('div');\n",
              "        docLink.innerHTML = docLinkHtml;\n",
              "        element.appendChild(docLink);\n",
              "      }\n",
              "    </script>\n",
              "  </div>\n",
              "\n",
              "\n",
              "<div id=\"df-758e8cef-1af5-422e-af6e-3f43db16228b\">\n",
              "  <button class=\"colab-df-quickchart\" onclick=\"quickchart('df-758e8cef-1af5-422e-af6e-3f43db16228b')\"\n",
              "            title=\"Suggest charts.\"\n",
              "            style=\"display:none;\">\n",
              "\n",
              "<svg xmlns=\"http://www.w3.org/2000/svg\" height=\"24px\"viewBox=\"0 0 24 24\"\n",
              "     width=\"24px\">\n",
              "    <g>\n",
              "        <path d=\"M19 3H5c-1.1 0-2 .9-2 2v14c0 1.1.9 2 2 2h14c1.1 0 2-.9 2-2V5c0-1.1-.9-2-2-2zM9 17H7v-7h2v7zm4 0h-2V7h2v10zm4 0h-2v-4h2v4z\"/>\n",
              "    </g>\n",
              "</svg>\n",
              "  </button>\n",
              "\n",
              "<style>\n",
              "  .colab-df-quickchart {\n",
              "      --bg-color: #E8F0FE;\n",
              "      --fill-color: #1967D2;\n",
              "      --hover-bg-color: #E2EBFA;\n",
              "      --hover-fill-color: #174EA6;\n",
              "      --disabled-fill-color: #AAA;\n",
              "      --disabled-bg-color: #DDD;\n",
              "  }\n",
              "\n",
              "  [theme=dark] .colab-df-quickchart {\n",
              "      --bg-color: #3B4455;\n",
              "      --fill-color: #D2E3FC;\n",
              "      --hover-bg-color: #434B5C;\n",
              "      --hover-fill-color: #FFFFFF;\n",
              "      --disabled-bg-color: #3B4455;\n",
              "      --disabled-fill-color: #666;\n",
              "  }\n",
              "\n",
              "  .colab-df-quickchart {\n",
              "    background-color: var(--bg-color);\n",
              "    border: none;\n",
              "    border-radius: 50%;\n",
              "    cursor: pointer;\n",
              "    display: none;\n",
              "    fill: var(--fill-color);\n",
              "    height: 32px;\n",
              "    padding: 0;\n",
              "    width: 32px;\n",
              "  }\n",
              "\n",
              "  .colab-df-quickchart:hover {\n",
              "    background-color: var(--hover-bg-color);\n",
              "    box-shadow: 0 1px 2px rgba(60, 64, 67, 0.3), 0 1px 3px 1px rgba(60, 64, 67, 0.15);\n",
              "    fill: var(--button-hover-fill-color);\n",
              "  }\n",
              "\n",
              "  .colab-df-quickchart-complete:disabled,\n",
              "  .colab-df-quickchart-complete:disabled:hover {\n",
              "    background-color: var(--disabled-bg-color);\n",
              "    fill: var(--disabled-fill-color);\n",
              "    box-shadow: none;\n",
              "  }\n",
              "\n",
              "  .colab-df-spinner {\n",
              "    border: 2px solid var(--fill-color);\n",
              "    border-color: transparent;\n",
              "    border-bottom-color: var(--fill-color);\n",
              "    animation:\n",
              "      spin 1s steps(1) infinite;\n",
              "  }\n",
              "\n",
              "  @keyframes spin {\n",
              "    0% {\n",
              "      border-color: transparent;\n",
              "      border-bottom-color: var(--fill-color);\n",
              "      border-left-color: var(--fill-color);\n",
              "    }\n",
              "    20% {\n",
              "      border-color: transparent;\n",
              "      border-left-color: var(--fill-color);\n",
              "      border-top-color: var(--fill-color);\n",
              "    }\n",
              "    30% {\n",
              "      border-color: transparent;\n",
              "      border-left-color: var(--fill-color);\n",
              "      border-top-color: var(--fill-color);\n",
              "      border-right-color: var(--fill-color);\n",
              "    }\n",
              "    40% {\n",
              "      border-color: transparent;\n",
              "      border-right-color: var(--fill-color);\n",
              "      border-top-color: var(--fill-color);\n",
              "    }\n",
              "    60% {\n",
              "      border-color: transparent;\n",
              "      border-right-color: var(--fill-color);\n",
              "    }\n",
              "    80% {\n",
              "      border-color: transparent;\n",
              "      border-right-color: var(--fill-color);\n",
              "      border-bottom-color: var(--fill-color);\n",
              "    }\n",
              "    90% {\n",
              "      border-color: transparent;\n",
              "      border-bottom-color: var(--fill-color);\n",
              "    }\n",
              "  }\n",
              "</style>\n",
              "\n",
              "  <script>\n",
              "    async function quickchart(key) {\n",
              "      const quickchartButtonEl =\n",
              "        document.querySelector('#' + key + ' button');\n",
              "      quickchartButtonEl.disabled = true;  // To prevent multiple clicks.\n",
              "      quickchartButtonEl.classList.add('colab-df-spinner');\n",
              "      try {\n",
              "        const charts = await google.colab.kernel.invokeFunction(\n",
              "            'suggestCharts', [key], {});\n",
              "      } catch (error) {\n",
              "        console.error('Error during call to suggestCharts:', error);\n",
              "      }\n",
              "      quickchartButtonEl.classList.remove('colab-df-spinner');\n",
              "      quickchartButtonEl.classList.add('colab-df-quickchart-complete');\n",
              "    }\n",
              "    (() => {\n",
              "      let quickchartButtonEl =\n",
              "        document.querySelector('#df-758e8cef-1af5-422e-af6e-3f43db16228b button');\n",
              "      quickchartButtonEl.style.display =\n",
              "        google.colab.kernel.accessAllowed ? 'block' : 'none';\n",
              "    })();\n",
              "  </script>\n",
              "</div>\n",
              "    </div>\n",
              "  </div>\n"
            ]
          },
          "metadata": {}
        }
      ],
      "source": [
        "# Create y data made up of correctly ordered labels from file folders\n",
        "from itertools import repeat\n",
        "\n",
        "# Recall that we have five folders with the following number of images in each folder\n",
        "#...corresponding to each flower type\n",
        "\n",
        "print('number of images for each category:', [len(f) for f in fnames])\n",
        "covid=list(repeat(\"COVID\", 1344))\n",
        "normal=list(repeat(\"NORMAL\", 1344))\n",
        "pneumonia=list(repeat(\"PNEUMONIA\", 1344))\n",
        "\n",
        "#combine into single list of y labels\n",
        "y_labels = covid+normal+pneumonia\n",
        "\n",
        "#check length, same as X above\n",
        "print(len(y_labels) )\n",
        "\n",
        "# Need to one hot encode for Keras.  Let's use Pandas\n",
        "\n",
        "import pandas as pd\n",
        "y=pd.get_dummies(y_labels)\n",
        "\n",
        "display(y)"
      ]
    },
    {
      "cell_type": "markdown",
      "metadata": {
        "id": "CV5c-t-4QeAe"
      },
      "source": [
        "## 1 Visualize images that demonstrate when x-rays demonstrate Covid Positivity and when they do not (You can present visuals of each category in the data if you would like to.)."
      ]
    },
    {
      "cell_type": "markdown",
      "metadata": {
        "id": "hct21mqeUB-H"
      },
      "source": [
        "The following code randomly select 1 image from each category, and labeled the images."
      ]
    },
    {
      "cell_type": "code",
      "execution_count": 14,
      "metadata": {
        "colab": {
          "base_uri": "https://localhost:8080/",
          "height": 410
        },
        "id": "kMW6XsF8Q6w0",
        "outputId": "1fd82413-5d22-4cc2-feae-bca3eb1bd3e7"
      },
      "outputs": [
        {
          "output_type": "stream",
          "name": "stderr",
          "text": [
            "WARNING:matplotlib.image:Clipping input data to the valid range for imshow with RGB data ([0..1] for floats or [0..255] for integers).\n",
            "WARNING:matplotlib.image:Clipping input data to the valid range for imshow with RGB data ([0..1] for floats or [0..255] for integers).\n",
            "WARNING:matplotlib.image:Clipping input data to the valid range for imshow with RGB data ([0..1] for floats or [0..255] for integers).\n"
          ]
        },
        {
          "output_type": "display_data",
          "data": {
            "text/plain": [
              "<Figure size 1200x400 with 6 Axes>"
            ],
            "image/png": "[encoded data removed]"
          },
          "metadata": {}
        }
      ],
      "source": [
        "import matplotlib.pyplot as plt\n",
        "from mpl_toolkits.axes_grid1 import ImageGrid\n",
        "import numpy as np\n",
        "import random\n",
        "\n",
        "# Function to preprocess and return a random image from a given category\n",
        "def get_random_image(category_index):\n",
        "    category_images = fnames[category_index]\n",
        "    random_image_path = random.choice(category_images)\n",
        "    return preprocessor(random_image_path)\n",
        "\n",
        "# Getting one random image from each category\n",
        "im1 = get_random_image(0)  # COVID\n",
        "im2 = get_random_image(1)  # Normal\n",
        "im3 = get_random_image(2)  # Viral Pneumonia\n",
        "\n",
        "# Creating labels for each category\n",
        "labels = ['COVID', 'Normal', 'Viral Pneumonia']\n",
        "\n",
        "# Creating a 1x3 grid for images\n",
        "fig = plt.figure(figsize=(12, 4))\n",
        "grid = ImageGrid(fig, 111, nrows_ncols=(1, 3), axes_pad=0.5)\n",
        "\n",
        "# Displaying each image along with its category label\n",
        "for ax, im, label in zip(grid, [im1, im2, im3], labels):\n",
        "    ax.imshow(im)\n",
        "    ax.set_title(label)\n",
        "    ax.axis('off')  # Hiding axes for a cleaner look\n",
        "\n",
        "plt.show()\n"
      ]
    },
    {
      "cell_type": "markdown",
      "metadata": {
        "id": "sRoW2mSZUi80"
      },
      "source": [
        "## 2 Discuss the dataset in general terms and describe why building a predictive model using this data might be practically useful.  Who could benefit from a model like this? Explain.\n",
        "\n",
        "This dataset contains X-ray images categorized into COVID-19, Normal, and Viral Pneumonia, which is essential for building predictive models for automated disease diagnosis. Utilizing this data to develop a model can enhance the accuracy of diagnosing COVID-19 and other respiratory illnesses, which is crucial in healthcare emergencies. Healthcare institutions could benefit from such a model, which would aid in managing and prioritizing patient care effectively and efficiently.\n",
        "\n"
      ]
    },
    {
      "cell_type": "markdown",
      "metadata": {
        "id": "2xCADpFMVPB_"
      },
      "source": [
        "## 3 Run at least three prediction models to try to predict x-ray images wel"
      ]
    },
    {
      "cell_type": "code",
      "execution_count": 15,
      "metadata": {
        "colab": {
          "base_uri": "https://localhost:8080/"
        },
        "id": "TImfyLlxy1Vx",
        "outputId": "3227a1ef-d280-4aae-92b5-17b98c5738fd"
      },
      "outputs": [
        {
          "output_type": "execute_result",
          "data": {
            "text/plain": [
              "((1291, 192, 192, 3), (1291, 3))"
            ]
          },
          "metadata": {},
          "execution_count": 15
        }
      ],
      "source": [
        "# ======Train test split resized images (Hackathon Note!! Use same train test split to be able to submit predictions to leaderboard!)=======================================\n",
        "from sklearn.model_selection import train_test_split\n",
        "\n",
        "X_train, X_test, y_train, y_test = train_test_split(X, y, stratify = y, test_size = 0.32, random_state = 1987)\n",
        "\n",
        "\n",
        "X_test.shape, y_test.shape"
      ]
    },
    {
      "cell_type": "code",
      "execution_count": 16,
      "metadata": {
        "id": "_NdLXfABhpTC"
      },
      "outputs": [],
      "source": [
        "#Clear objects from memory\n",
        "del(X)\n",
        "del(y)\n",
        "del(preprocessed_image_data)"
      ]
    },
    {
      "cell_type": "code",
      "execution_count": 17,
      "metadata": {
        "id": "79LOCIg-hOVg"
      },
      "outputs": [],
      "source": [
        "#Save data to be able to reload quickly if memory crashes or if you run Runtime>Restart Runtime\n",
        "import pickle\n",
        "\n",
        "# Open a file and use dump()\n",
        "with open('X_train.pkl', 'wb') as file:\n",
        "    # A new file will be created\n",
        "    pickle.dump(X_train, file)\n",
        "\n",
        "#Save data\n",
        "import pickle\n",
        "\n",
        "# Open a file and use dump()\n",
        "with open('X_test.pkl', 'wb') as file:\n",
        "    # A new file will be created\n",
        "    pickle.dump(X_test, file)\n",
        "\n",
        "#Save data\n",
        "import pickle\n",
        "\n",
        "# Open a file and use dump()\n",
        "with open('y_train.pkl', 'wb') as file:\n",
        "    # A new file will be created\n",
        "    pickle.dump(y_train, file)\n",
        "\n",
        "\n",
        "# Open a file and use dump()\n",
        "with open('y_test.pkl', 'wb') as file:\n",
        "    # A new file will be created\n",
        "    pickle.dump(y_test, file)"
      ]
    },
    {
      "cell_type": "code",
      "execution_count": 18,
      "metadata": {
        "id": "dEMdwHosjmgt"
      },
      "outputs": [],
      "source": [
        "#If you run out of Colab memory restart runtime, reload data and try again\n",
        "import pickle\n",
        "\n",
        "# Open the file in binary mode\n",
        "with open('X_train.pkl', 'rb') as file:\n",
        "    # Call load method to deserialze\n",
        "    X_train = pickle.load(file)\n",
        "\n",
        "# Open the file in binary mode\n",
        "with open('y_train.pkl', 'rb') as file:\n",
        "    # Call load method to deserialze\n",
        "    y_train = pickle.load(file)"
      ]
    },
    {
      "cell_type": "markdown",
      "metadata": {
        "id": "NrBrmdJZwWFA"
      },
      "source": [
        "### Model 1 CNN"
      ]
    },
    {
      "cell_type": "code",
      "execution_count": 19,
      "metadata": {
        "colab": {
          "base_uri": "https://localhost:8080/"
        },
        "id": "9LrTcis-y4Sy",
        "outputId": "f4ccb46c-d934-4b3e-cd62-050fefa50fef"
      },
      "outputs": [
        {
          "output_type": "stream",
          "name": "stdout",
          "text": [
            "69/69 [==============================] - 21s 67ms/step - loss: 0.8829 - accuracy: 0.5511 - val_loss: 0.9085 - val_accuracy: 0.6521\n"
          ]
        }
      ],
      "source": [
        "import tensorflow as tf\n",
        "\n",
        "with tf.device('/device:GPU:0'): #\"/GPU:0\": Short-hand notation for the first GPU of your machine that is visible to TensorFlow.\n",
        "\n",
        "  model = tf.keras.Sequential([\n",
        "    # input: images of size Sample size, height, width, channels 1x192x192x3 pixels (the three stands for RGB channels)\n",
        "    tf.keras.layers.Conv2D(kernel_size=3, filters=32, padding='same', activation='relu', input_shape=(192, 192, 3)),\n",
        "    tf.keras.layers.Conv2D(kernel_size=1, filters=32, padding='same', activation='relu'),\n",
        "    tf.keras.layers.MaxPooling2D(pool_size=2),\n",
        "    tf.keras.layers.Conv2D(kernel_size=3, filters=64, padding='same', activation='relu'),\n",
        "    tf.keras.layers.Conv2D(kernel_size=1, filters=64, padding='same', activation='relu'),\n",
        "    tf.keras.layers.MaxPooling2D(pool_size=2),\n",
        "    tf.keras.layers.Conv2D(kernel_size=3, filters=128, padding='same', activation='relu'),\n",
        "    tf.keras.layers.Conv2D(kernel_size=1, filters=128, padding='same', activation='relu'),\n",
        "    tf.keras.layers.MaxPooling2D(pool_size=2),\n",
        "    tf.keras.layers.Conv2D(kernel_size=3, filters=512, padding='same', activation='relu'),\n",
        "    tf.keras.layers.Conv2D(kernel_size=1, filters=512, padding='same', activation='relu'),\n",
        "    tf.keras.layers.MaxPooling2D(pool_size=2),\n",
        "    tf.keras.layers.Conv2D(kernel_size=3, filters=512, padding='same', activation='relu'),\n",
        "    tf.keras.layers.Conv2D(kernel_size=1, filters=512, padding='same', activation='relu'),\n",
        "    tf.keras.layers.Flatten(),\n",
        "\n",
        "    tf.keras.layers.Dense(3, activation='softmax')\n",
        "  ])\n",
        "  #from tensorflow.python.keras.callbacks import ReduceLROnPlateau\n",
        "  #red_lr= ReduceLROnPlateau(monitor='val_acc',patience=3,verbose=1,factor=0.1) # dividing lr by 10 when val_accuracy fails to improve after 3 epochs\n",
        "\n",
        "  model.compile(\n",
        "    optimizer=\"adam\", # to use callback set lr arg such as Adam(lr=0.001) instead\n",
        "    loss= 'categorical_crossentropy',\n",
        "    metrics=['accuracy'])\n",
        "\n",
        "  # Fitting the CNN to the Training set\n",
        "  model.fit(X_train, y_train,\n",
        "                    epochs = 1, verbose=1,validation_split=.2) #, callbacks=[red_lr]) for callback that automatically adjusts lr"
      ]
    },
    {
      "cell_type": "code",
      "execution_count": 20,
      "metadata": {
        "colab": {
          "base_uri": "https://localhost:8080/"
        },
        "id": "kZPdXhSgii5W",
        "outputId": "c7650026-6d64-43f0-fe4c-604e8f0621e5"
      },
      "outputs": [
        {
          "output_type": "stream",
          "name": "stderr",
          "text": [
            "/usr/local/lib/python3.10/dist-packages/keras/src/engine/training.py:3079: UserWarning: You are saving your model as an HDF5 file via `model.save()`. This file format is considered legacy. We recommend using instead the native Keras format, e.g. `model.save('my_model.keras')`.\n",
            "  saving_api.save_model(\n"
          ]
        }
      ],
      "source": [
        "model.save(\"model1.h5\", save_format=\"h5\")"
      ]
    },
    {
      "cell_type": "code",
      "execution_count": 21,
      "metadata": {
        "colab": {
          "base_uri": "https://localhost:8080/"
        },
        "id": "czz_9C3QB9T8",
        "outputId": "3e0b468c-2efd-437f-d15e-b6326273ac03"
      },
      "outputs": [
        {
          "output_type": "stream",
          "name": "stdout",
          "text": [
            "Model: \"sequential\"\n",
            "_________________________________________________________________\n",
            " Layer (type)                Output Shape              Param #   \n",
            "=================================================================\n",
            " conv2d (Conv2D)             (None, 192, 192, 32)      896       \n",
            "                                                                 \n",
            " conv2d_1 (Conv2D)           (None, 192, 192, 32)      1056      \n",
            "                                                                 \n",
            " max_pooling2d (MaxPooling2  (None, 96, 96, 32)        0         \n",
            " D)                                                              \n",
            "                                                                 \n",
            " conv2d_2 (Conv2D)           (None, 96, 96, 64)        18496     \n",
            "                                                                 \n",
            " conv2d_3 (Conv2D)           (None, 96, 96, 64)        4160      \n",
            "                                                                 \n",
            " max_pooling2d_1 (MaxPoolin  (None, 48, 48, 64)        0         \n",
            " g2D)                                                            \n",
            "                                                                 \n",
            " conv2d_4 (Conv2D)           (None, 48, 48, 128)       73856     \n",
            "                                                                 \n",
            " conv2d_5 (Conv2D)           (None, 48, 48, 128)       16512     \n",
            "                                                                 \n",
            " max_pooling2d_2 (MaxPoolin  (None, 24, 24, 128)       0         \n",
            " g2D)                                                            \n",
            "                                                                 \n",
            " conv2d_6 (Conv2D)           (None, 24, 24, 512)       590336    \n",
            "                                                                 \n",
            " conv2d_7 (Conv2D)           (None, 24, 24, 512)       262656    \n",
            "                                                                 \n",
            " max_pooling2d_3 (MaxPoolin  (None, 12, 12, 512)       0         \n",
            " g2D)                                                            \n",
            "                                                                 \n",
            " conv2d_8 (Conv2D)           (None, 12, 12, 512)       2359808   \n",
            "                                                                 \n",
            " conv2d_9 (Conv2D)           (None, 12, 12, 512)       262656    \n",
            "                                                                 \n",
            " flatten (Flatten)           (None, 73728)             0         \n",
            "                                                                 \n",
            " dense (Dense)               (None, 3)                 221187    \n",
            "                                                                 \n",
            "=================================================================\n",
            "Total params: 3811619 (14.54 MB)\n",
            "Trainable params: 3811619 (14.54 MB)\n",
            "Non-trainable params: 0 (0.00 Byte)\n",
            "_________________________________________________________________\n"
          ]
        }
      ],
      "source": [
        "model.summary()"
      ]
    },
    {
      "cell_type": "markdown",
      "metadata": {
        "id": "IPKOqduO38AE"
      },
      "source": [
        "### Model 2: VGG16 Model"
      ]
    },
    {
      "cell_type": "code",
      "execution_count": 22,
      "metadata": {
        "colab": {
          "base_uri": "https://localhost:8080/"
        },
        "id": "5wuQYRQ9jLTz",
        "outputId": "e23e17e4-056f-4019-8dbd-9ba6e55760a8"
      },
      "outputs": [
        {
          "output_type": "stream",
          "name": "stderr",
          "text": [
            "WARNING:absl:`lr` is deprecated in Keras optimizer, please use `learning_rate` or use the legacy optimizer, e.g.,tf.keras.optimizers.legacy.Adam.\n"
          ]
        },
        {
          "output_type": "stream",
          "name": "stdout",
          "text": [
            "Epoch 1/10\n",
            "69/69 [==============================] - 8s 67ms/step - loss: 0.8257 - accuracy: 0.6218 - val_loss: 0.5843 - val_accuracy: 0.7723\n",
            "Epoch 2/10\n",
            "69/69 [==============================] - 3s 48ms/step - loss: 0.5389 - accuracy: 0.7924 - val_loss: 0.4777 - val_accuracy: 0.7978\n",
            "Epoch 3/10\n",
            "69/69 [==============================] - 3s 48ms/step - loss: 0.4424 - accuracy: 0.8294 - val_loss: 0.3713 - val_accuracy: 0.8652\n",
            "Epoch 4/10\n",
            "69/69 [==============================] - 3s 45ms/step - loss: 0.3866 - accuracy: 0.8572 - val_loss: 0.3380 - val_accuracy: 0.8816\n",
            "Epoch 5/10\n",
            "69/69 [==============================] - 3s 45ms/step - loss: 0.3448 - accuracy: 0.8682 - val_loss: 0.2991 - val_accuracy: 0.8907\n",
            "Epoch 6/10\n",
            "69/69 [==============================] - 3s 46ms/step - loss: 0.3367 - accuracy: 0.8677 - val_loss: 0.3169 - val_accuracy: 0.8707\n",
            "Epoch 7/10\n",
            "69/69 [==============================] - 3s 47ms/step - loss: 0.3123 - accuracy: 0.8818 - val_loss: 0.2659 - val_accuracy: 0.9016\n",
            "Epoch 8/10\n",
            "69/69 [==============================] - 3s 47ms/step - loss: 0.2877 - accuracy: 0.8901 - val_loss: 0.2743 - val_accuracy: 0.8980\n",
            "Epoch 9/10\n",
            "69/69 [==============================] - 3s 47ms/step - loss: 0.2696 - accuracy: 0.9001 - val_loss: 0.2563 - val_accuracy: 0.8980\n",
            "Epoch 10/10\n",
            "69/69 [==============================] - 3s 47ms/step - loss: 0.2513 - accuracy: 0.9092 - val_loss: 0.3036 - val_accuracy: 0.8689\n"
          ]
        },
        {
          "output_type": "execute_result",
          "data": {
            "text/plain": [
              "<keras.src.callbacks.History at 0x7fe73416de10>"
            ]
          },
          "metadata": {},
          "execution_count": 22
        }
      ],
      "source": [
        "from tensorflow.keras.applications import VGG16\n",
        "from tensorflow.keras.layers import Dense, GlobalAveragePooling2D, Dropout\n",
        "from tensorflow.keras.models import Model\n",
        "from tensorflow.keras.optimizers import Adam\n",
        "\n",
        "# Load VGG16 model + higher level layers\n",
        "base_model = VGG16(weights='imagenet', include_top=False, input_shape=(192, 192, 3))\n",
        "\n",
        "# Freeze the layers in base model\n",
        "for layer in base_model.layers:\n",
        "    layer.trainable = False\n",
        "\n",
        "# Add custom layers\n",
        "x = base_model.output\n",
        "x = GlobalAveragePooling2D()(x)\n",
        "x = Dense(512, activation='relu')(x)  # new FC layer, random init\n",
        "x = Dropout(0.5)(x)\n",
        "predictions = Dense(3, activation='softmax')(x)  # new softmax layer\n",
        "\n",
        "# Compile model\n",
        "model2 = Model(inputs=base_model.input, outputs=predictions)\n",
        "optimizer = Adam(lr=0.0001)\n",
        "model2.compile(optimizer=optimizer, loss='categorical_crossentropy', metrics=['accuracy'])\n",
        "\n",
        "# Train the model\n",
        "model2.fit(X_train, y_train, epochs=10, validation_split=0.2)\n"
      ]
    },
    {
      "cell_type": "code",
      "execution_count": 23,
      "metadata": {
        "colab": {
          "base_uri": "https://localhost:8080/"
        },
        "id": "Gq5ffq0E_WD5",
        "outputId": "876a37e6-b29e-46b4-d565-eca8ae4c5a84"
      },
      "outputs": [
        {
          "output_type": "stream",
          "name": "stdout",
          "text": [
            "Model: \"model\"\n",
            "_________________________________________________________________\n",
            " Layer (type)                Output Shape              Param #   \n",
            "=================================================================\n",
            " input_1 (InputLayer)        [(None, 192, 192, 3)]     0         \n",
            "                                                                 \n",
            " block1_conv1 (Conv2D)       (None, 192, 192, 64)      1792      \n",
            "                                                                 \n",
            " block1_conv2 (Conv2D)       (None, 192, 192, 64)      36928     \n",
            "                                                                 \n",
            " block1_pool (MaxPooling2D)  (None, 96, 96, 64)        0         \n",
            "                                                                 \n",
            " block2_conv1 (Conv2D)       (None, 96, 96, 128)       73856     \n",
            "                                                                 \n",
            " block2_conv2 (Conv2D)       (None, 96, 96, 128)       147584    \n",
            "                                                                 \n",
            " block2_pool (MaxPooling2D)  (None, 48, 48, 128)       0         \n",
            "                                                                 \n",
            " block3_conv1 (Conv2D)       (None, 48, 48, 256)       295168    \n",
            "                                                                 \n",
            " block3_conv2 (Conv2D)       (None, 48, 48, 256)       590080    \n",
            "                                                                 \n",
            " block3_conv3 (Conv2D)       (None, 48, 48, 256)       590080    \n",
            "                                                                 \n",
            " block3_pool (MaxPooling2D)  (None, 24, 24, 256)       0         \n",
            "                                                                 \n",
            " block4_conv1 (Conv2D)       (None, 24, 24, 512)       1180160   \n",
            "                                                                 \n",
            " block4_conv2 (Conv2D)       (None, 24, 24, 512)       2359808   \n",
            "                                                                 \n",
            " block4_conv3 (Conv2D)       (None, 24, 24, 512)       2359808   \n",
            "                                                                 \n",
            " block4_pool (MaxPooling2D)  (None, 12, 12, 512)       0         \n",
            "                                                                 \n",
            " block5_conv1 (Conv2D)       (None, 12, 12, 512)       2359808   \n",
            "                                                                 \n",
            " block5_conv2 (Conv2D)       (None, 12, 12, 512)       2359808   \n",
            "                                                                 \n",
            " block5_conv3 (Conv2D)       (None, 12, 12, 512)       2359808   \n",
            "                                                                 \n",
            " block5_pool (MaxPooling2D)  (None, 6, 6, 512)         0         \n",
            "                                                                 \n",
            " global_average_pooling2d (  (None, 512)               0         \n",
            " GlobalAveragePooling2D)                                         \n",
            "                                                                 \n",
            " dense_1 (Dense)             (None, 512)               262656    \n",
            "                                                                 \n",
            " dropout (Dropout)           (None, 512)               0         \n",
            "                                                                 \n",
            " dense_2 (Dense)             (None, 3)                 1539      \n",
            "                                                                 \n",
            "=================================================================\n",
            "Total params: 14978883 (57.14 MB)\n",
            "Trainable params: 264195 (1.01 MB)\n",
            "Non-trainable params: 14714688 (56.13 MB)\n",
            "_________________________________________________________________\n"
          ]
        }
      ],
      "source": [
        "model2.summary()"
      ]
    },
    {
      "cell_type": "code",
      "execution_count": 24,
      "metadata": {
        "colab": {
          "base_uri": "https://localhost:8080/"
        },
        "id": "JTnmZfikCYpS",
        "outputId": "f6fda02d-4f96-441e-9c52-71483d69fc71"
      },
      "outputs": [
        {
          "output_type": "stream",
          "name": "stderr",
          "text": [
            "/usr/local/lib/python3.10/dist-packages/keras/src/engine/training.py:3079: UserWarning: You are saving your model as an HDF5 file via `model.save()`. This file format is considered legacy. We recommend using instead the native Keras format, e.g. `model.save('my_model.keras')`.\n",
            "  saving_api.save_model(\n"
          ]
        }
      ],
      "source": [
        "model2.save(\"model2.h5\", save_format=\"h5\")\n"
      ]
    },
    {
      "cell_type": "markdown",
      "metadata": {
        "id": "a0GLnbuw-Nmq"
      },
      "source": [
        "### Model 3\n"
      ]
    },
    {
      "cell_type": "code",
      "execution_count": 25,
      "metadata": {
        "id": "H7cnEbViA3yH",
        "colab": {
          "base_uri": "https://localhost:8080/"
        },
        "outputId": "82d18e93-5abf-4e7e-b0a8-d57d5bee4779"
      },
      "outputs": [
        {
          "output_type": "stream",
          "name": "stdout",
          "text": [
            "Epoch 1/10\n",
            "69/69 [==============================] - 15s 126ms/step - loss: 1.1842 - accuracy: 0.3116 - val_loss: 1.0983 - val_accuracy: 0.3388\n",
            "Epoch 2/10\n",
            "69/69 [==============================] - 8s 109ms/step - loss: 1.0992 - accuracy: 0.3403 - val_loss: 1.0978 - val_accuracy: 0.3206\n",
            "Epoch 3/10\n",
            "69/69 [==============================] - 7s 107ms/step - loss: 1.1052 - accuracy: 0.3481 - val_loss: 1.0984 - val_accuracy: 0.3388\n",
            "Epoch 4/10\n",
            "69/69 [==============================] - 8s 110ms/step - loss: 1.1556 - accuracy: 0.3271 - val_loss: 1.0998 - val_accuracy: 0.3206\n",
            "Epoch 5/10\n",
            "69/69 [==============================] - 7s 105ms/step - loss: 1.0990 - accuracy: 0.3225 - val_loss: 1.0994 - val_accuracy: 0.3206\n",
            "Epoch 6/10\n",
            "69/69 [==============================] - 8s 111ms/step - loss: 1.0987 - accuracy: 0.3371 - val_loss: 1.0988 - val_accuracy: 0.3206\n",
            "Epoch 7/10\n",
            "69/69 [==============================] - 7s 107ms/step - loss: 1.0986 - accuracy: 0.3394 - val_loss: 1.0988 - val_accuracy: 0.3206\n",
            "Epoch 8/10\n",
            "69/69 [==============================] - 8s 114ms/step - loss: 1.0987 - accuracy: 0.3335 - val_loss: 1.0988 - val_accuracy: 0.3206\n",
            "Epoch 9/10\n",
            "69/69 [==============================] - 8s 109ms/step - loss: 1.0988 - accuracy: 0.3339 - val_loss: 1.0989 - val_accuracy: 0.3206\n",
            "Epoch 10/10\n",
            "69/69 [==============================] - 7s 107ms/step - loss: 1.0989 - accuracy: 0.3330 - val_loss: 1.0987 - val_accuracy: 0.3206\n"
          ]
        },
        {
          "output_type": "execute_result",
          "data": {
            "text/plain": [
              "<keras.src.callbacks.History at 0x7fe72c6eef20>"
            ]
          },
          "metadata": {},
          "execution_count": 25
        }
      ],
      "source": [
        "from tensorflow.keras.applications import VGG16\n",
        "from tensorflow.keras.models import Sequential\n",
        "from tensorflow.keras.layers import Dense, Flatten, GlobalAveragePooling2D, Dropout\n",
        "from tensorflow.keras.optimizers import Adam\n",
        "\n",
        "# Load VGG16 as the base model\n",
        "base_model = VGG16(weights='imagenet', include_top=False, input_shape=(192, 192, 3))\n",
        "\n",
        "# Make sure the base model layers are not trainable\n",
        "for layer in base_model.layers[-5:]:\n",
        "    layer.trainable = True\n",
        "\n",
        "# Add layers to the model\n",
        "model3 = Sequential([\n",
        "    base_model,\n",
        "    GlobalAveragePooling2D(),\n",
        "    Dense(256, activation='relu'),\n",
        "    Dropout(0.2),\n",
        "    Dense(3, activation='softmax')\n",
        "])\n",
        "\n",
        "# Compile the model\n",
        "model3.compile(optimizer='adam', loss='categorical_crossentropy', metrics=['accuracy'])\n",
        "\n",
        "# Train the model\n",
        "model3.fit(X_train, y_train, epochs=10, validation_split=0.2)\n"
      ]
    },
    {
      "cell_type": "code",
      "execution_count": 26,
      "metadata": {
        "id": "1jWUwjbTCVXS",
        "colab": {
          "base_uri": "https://localhost:8080/"
        },
        "outputId": "7e029abc-5cca-4ba4-8482-62460e45c487"
      },
      "outputs": [
        {
          "output_type": "stream",
          "name": "stderr",
          "text": [
            "/usr/local/lib/python3.10/dist-packages/keras/src/engine/training.py:3079: UserWarning: You are saving your model as an HDF5 file via `model.save()`. This file format is considered legacy. We recommend using instead the native Keras format, e.g. `model.save('my_model.keras')`.\n",
            "  saving_api.save_model(\n"
          ]
        }
      ],
      "source": [
        "model3.save(\"model3.h5\", save_format=\"h5\")\n"
      ]
    },
    {
      "cell_type": "markdown",
      "metadata": {
        "id": "GTRp2b75D7SG"
      },
      "source": [
        "### Discuss which models performed better and point out relevant hyper-parameter values for successful models.\n",
        "\n",
        "The VGG16 Transfer Learning Model (Model 2) performs the best among the three, starting at 63% and improves significantly over epochs. The validation accuracy also improves, reaching up to ~91%, indicating that the model is generalizing well to new data.\n",
        "For Hyper-parameters, the model uses VGG16 as a base, leveraging pre-trained weights, which is a crucial success factor. Trained for 10 epochs, which seems sufficient for this model to learn and improve accuracy."
      ]
    },
    {
      "cell_type": "markdown",
      "metadata": {
        "id": "FfA0_PpaAC7L"
      },
      "source": [
        "###  submit your best three models to the leader board for the Covid X-ray Diagnostic AI Model Share competition."
      ]
    },
    {
      "cell_type": "markdown",
      "metadata": {
        "id": "U2ImI3F1GA6f"
      },
      "source": [
        "#### model 1"
      ]
    },
    {
      "cell_type": "code",
      "execution_count": 27,
      "metadata": {
        "id": "BKcLec7YHtoF",
        "colab": {
          "base_uri": "https://localhost:8080/"
        },
        "outputId": "1253a258-ec41-41e8-fcac-ae6e6d3d4a33"
      },
      "outputs": [
        {
          "output_type": "stream",
          "name": "stdout",
          "text": [
            "Model: \"sequential\"\n",
            "_________________________________________________________________\n",
            " Layer (type)                Output Shape              Param #   \n",
            "=================================================================\n",
            " conv2d (Conv2D)             (None, 192, 192, 32)      896       \n",
            "                                                                 \n",
            " conv2d_1 (Conv2D)           (None, 192, 192, 32)      1056      \n",
            "                                                                 \n",
            " max_pooling2d (MaxPooling2  (None, 96, 96, 32)        0         \n",
            " D)                                                              \n",
            "                                                                 \n",
            " conv2d_2 (Conv2D)           (None, 96, 96, 64)        18496     \n",
            "                                                                 \n",
            " conv2d_3 (Conv2D)           (None, 96, 96, 64)        4160      \n",
            "                                                                 \n",
            " max_pooling2d_1 (MaxPoolin  (None, 48, 48, 64)        0         \n",
            " g2D)                                                            \n",
            "                                                                 \n",
            " conv2d_4 (Conv2D)           (None, 48, 48, 128)       73856     \n",
            "                                                                 \n",
            " conv2d_5 (Conv2D)           (None, 48, 48, 128)       16512     \n",
            "                                                                 \n",
            " max_pooling2d_2 (MaxPoolin  (None, 24, 24, 128)       0         \n",
            " g2D)                                                            \n",
            "                                                                 \n",
            " conv2d_6 (Conv2D)           (None, 24, 24, 512)       590336    \n",
            "                                                                 \n",
            " conv2d_7 (Conv2D)           (None, 24, 24, 512)       262656    \n",
            "                                                                 \n",
            " max_pooling2d_3 (MaxPoolin  (None, 12, 12, 512)       0         \n",
            " g2D)                                                            \n",
            "                                                                 \n",
            " conv2d_8 (Conv2D)           (None, 12, 12, 512)       2359808   \n",
            "                                                                 \n",
            " conv2d_9 (Conv2D)           (None, 12, 12, 512)       262656    \n",
            "                                                                 \n",
            " flatten (Flatten)           (None, 73728)             0         \n",
            "                                                                 \n",
            " dense (Dense)               (None, 3)                 221187    \n",
            "                                                                 \n",
            "=================================================================\n",
            "Total params: 3811619 (14.54 MB)\n",
            "Trainable params: 3811619 (14.54 MB)\n",
            "Non-trainable params: 0 (0.00 Byte)\n",
            "_________________________________________________________________\n"
          ]
        }
      ],
      "source": [
        "# Reload model and data\n",
        "import tensorflow as tf\n",
        "model = tf.keras.models.load_model('model1.h5',compile=True)\n",
        "model.compile(\n",
        "    optimizer=\"adam\", # to use callback set lr arg such as Adam(lr=0.001) instead\n",
        "    loss= 'categorical_crossentropy',\n",
        "    metrics=['accuracy'])\n",
        "model.summary()\n"
      ]
    },
    {
      "cell_type": "code",
      "execution_count": 28,
      "metadata": {
        "id": "6c47zoOtGezU",
        "colab": {
          "base_uri": "https://localhost:8080/"
        },
        "outputId": "21a3784b-0f79-4233-ee05-caac461e704c"
      },
      "outputs": [
        {
          "output_type": "stream",
          "name": "stdout",
          "text": [
            "41/41 [==============================] - 1s 23ms/step\n"
          ]
        }
      ],
      "source": [
        "#Use X_test data to generate model predictions and make leaderboard submission\n",
        "\n",
        "#Generate and save predictions\n",
        "\n",
        "#Load preprocessed data\n",
        "#If you run out of Colab memory restart runtime, reload data and try again\n",
        "import pickle\n",
        "\n",
        "# Open the file in binary mode\n",
        "with open('X_test.pkl', 'rb') as file:\n",
        "    # Call load method to deserialze\n",
        "    X_test = pickle.load(file)\n",
        "\n",
        "# Open the file in binary mode\n",
        "with open('y_train.pkl', 'rb') as file:\n",
        "    # Call load method to deserialze\n",
        "    y_train = pickle.load(file)\n",
        "\n",
        "prediction_column_index=model.predict(X_test).argmax(axis=1)\n",
        "\n",
        "# extract correct prediction labels\n",
        "prediction_labels = [y_train.columns[i] for i in prediction_column_index]"
      ]
    },
    {
      "cell_type": "code",
      "source": [
        "! pip install aimodelshare --upgrade"
      ],
      "metadata": {
        "id": "1Nn3ftr0K9HE",
        "outputId": "008caf8f-8a39-437f-d176-53a7cb947a30",
        "colab": {
          "base_uri": "https://localhost:8080/"
        }
      },
      "execution_count": 29,
      "outputs": [
        {
          "output_type": "stream",
          "name": "stdout",
          "text": [
            "Requirement already satisfied: aimodelshare in /usr/local/lib/python3.10/dist-packages (0.1.5)\n",
            "Requirement already satisfied: boto3==1.26.69 in /usr/local/lib/python3.10/dist-packages (from aimodelshare) (1.26.69)\n",
            "Requirement already satisfied: botocore==1.29.82 in /usr/local/lib/python3.10/dist-packages (from aimodelshare) (1.29.82)\n",
            "Requirement already satisfied: scikit-learn==1.2.2 in /usr/local/lib/python3.10/dist-packages (from aimodelshare) (1.2.2)\n",
            "Requirement already satisfied: onnx==1.13.1 in /usr/local/lib/python3.10/dist-packages (from aimodelshare) (1.13.1)\n",
            "Requirement already satisfied: onnxconverter-common>=1.7.0 in /usr/local/lib/python3.10/dist-packages (from aimodelshare) (1.13.0)\n",
            "Requirement already satisfied: regex in /usr/local/lib/python3.10/dist-packages (from aimodelshare) (2023.6.3)\n",
            "Requirement already satisfied: keras2onnx>=1.7.0 in /usr/local/lib/python3.10/dist-packages (from aimodelshare) (1.7.0)\n",
            "Requirement already satisfied: tensorflow>=2.12 in /usr/local/lib/python3.10/dist-packages (from aimodelshare) (2.14.0)\n",
            "Requirement already satisfied: tf2onnx in /usr/local/lib/python3.10/dist-packages (from aimodelshare) (1.15.1)\n",
            "Requirement already satisfied: skl2onnx>=1.14.0 in /usr/local/lib/python3.10/dist-packages (from aimodelshare) (1.15.0)\n",
            "Requirement already satisfied: onnxruntime>=1.7.0 in /usr/local/lib/python3.10/dist-packages (from aimodelshare) (1.16.1)\n",
            "Requirement already satisfied: torch>=1.8.1 in /usr/local/lib/python3.10/dist-packages (from aimodelshare) (2.1.0+cu118)\n",
            "Requirement already satisfied: pydot==1.3.0 in /usr/local/lib/python3.10/dist-packages (from aimodelshare) (1.3.0)\n",
            "Requirement already satisfied: importlib-resources==5.10.0 in /usr/local/lib/python3.10/dist-packages (from aimodelshare) (5.10.0)\n",
            "Requirement already satisfied: onnxmltools>=1.6.1 in /usr/local/lib/python3.10/dist-packages (from aimodelshare) (1.11.2)\n",
            "Requirement already satisfied: Pympler==0.9 in /usr/local/lib/python3.10/dist-packages (from aimodelshare) (0.9)\n",
            "Requirement already satisfied: docker==5.0.0 in /usr/local/lib/python3.10/dist-packages (from aimodelshare) (5.0.0)\n",
            "Requirement already satisfied: wget==3.2 in /usr/local/lib/python3.10/dist-packages (from aimodelshare) (3.2)\n",
            "Requirement already satisfied: PyJWT>=2.4.0 in /usr/local/lib/python3.10/dist-packages (from aimodelshare) (2.8.0)\n",
            "Requirement already satisfied: seaborn>=0.11.2 in /usr/local/lib/python3.10/dist-packages (from aimodelshare) (0.12.2)\n",
            "Requirement already satisfied: astunparse==1.6.3 in /usr/local/lib/python3.10/dist-packages (from aimodelshare) (1.6.3)\n",
            "Requirement already satisfied: shortuuid>=1.0.8 in /usr/local/lib/python3.10/dist-packages (from aimodelshare) (1.0.11)\n",
            "Requirement already satisfied: psutil>=5.9.1 in /usr/local/lib/python3.10/dist-packages (from aimodelshare) (5.9.5)\n",
            "Requirement already satisfied: pathlib>=1.0.1 in /usr/local/lib/python3.10/dist-packages (from aimodelshare) (1.0.1)\n",
            "Requirement already satisfied: protobuf>=3.20.1 in /usr/local/lib/python3.10/dist-packages (from aimodelshare) (3.20.3)\n",
            "Requirement already satisfied: dill in /usr/local/lib/python3.10/dist-packages (from aimodelshare) (0.3.7)\n",
            "Requirement already satisfied: wheel<1.0,>=0.23.0 in /usr/local/lib/python3.10/dist-packages (from astunparse==1.6.3->aimodelshare) (0.41.2)\n",
            "Requirement already satisfied: six<2.0,>=1.6.1 in /usr/local/lib/python3.10/dist-packages (from astunparse==1.6.3->aimodelshare) (1.16.0)\n",
            "Requirement already satisfied: jmespath<2.0.0,>=0.7.1 in /usr/local/lib/python3.10/dist-packages (from boto3==1.26.69->aimodelshare) (1.0.1)\n",
            "Requirement already satisfied: s3transfer<0.7.0,>=0.6.0 in /usr/local/lib/python3.10/dist-packages (from boto3==1.26.69->aimodelshare) (0.6.2)\n",
            "Requirement already satisfied: python-dateutil<3.0.0,>=2.1 in /usr/local/lib/python3.10/dist-packages (from botocore==1.29.82->aimodelshare) (2.8.2)\n",
            "Requirement already satisfied: urllib3<1.27,>=1.25.4 in /usr/local/lib/python3.10/dist-packages (from botocore==1.29.82->aimodelshare) (1.26.18)\n",
            "Requirement already satisfied: websocket-client>=0.32.0 in /usr/local/lib/python3.10/dist-packages (from docker==5.0.0->aimodelshare) (1.6.4)\n",
            "Requirement already satisfied: requests!=2.18.0,>=2.14.2 in /usr/local/lib/python3.10/dist-packages (from docker==5.0.0->aimodelshare) (2.31.0)\n",
            "Requirement already satisfied: numpy>=1.16.6 in /usr/local/lib/python3.10/dist-packages (from onnx==1.13.1->aimodelshare) (1.23.5)\n",
            "Requirement already satisfied: typing-extensions>=3.6.2.1 in /usr/local/lib/python3.10/dist-packages (from onnx==1.13.1->aimodelshare) (4.5.0)\n",
            "Requirement already satisfied: pyparsing>=2.1.4 in /usr/local/lib/python3.10/dist-packages (from pydot==1.3.0->aimodelshare) (3.1.1)\n",
            "Requirement already satisfied: scipy>=1.3.2 in /usr/local/lib/python3.10/dist-packages (from scikit-learn==1.2.2->aimodelshare) (1.11.3)\n",
            "Requirement already satisfied: joblib>=1.1.1 in /usr/local/lib/python3.10/dist-packages (from scikit-learn==1.2.2->aimodelshare) (1.3.2)\n",
            "Requirement already satisfied: threadpoolctl>=2.0.0 in /usr/local/lib/python3.10/dist-packages (from scikit-learn==1.2.2->aimodelshare) (3.2.0)\n",
            "Requirement already satisfied: fire in /usr/local/lib/python3.10/dist-packages (from keras2onnx>=1.7.0->aimodelshare) (0.5.0)\n",
            "Requirement already satisfied: packaging in /usr/local/lib/python3.10/dist-packages (from onnxconverter-common>=1.7.0->aimodelshare) (23.2)\n",
            "Requirement already satisfied: coloredlogs in /usr/local/lib/python3.10/dist-packages (from onnxruntime>=1.7.0->aimodelshare) (15.0.1)\n",
            "Requirement already satisfied: flatbuffers in /usr/local/lib/python3.10/dist-packages (from onnxruntime>=1.7.0->aimodelshare) (23.5.26)\n",
            "Requirement already satisfied: sympy in /usr/local/lib/python3.10/dist-packages (from onnxruntime>=1.7.0->aimodelshare) (1.12)\n",
            "Requirement already satisfied: pandas>=0.25 in /usr/local/lib/python3.10/dist-packages (from seaborn>=0.11.2->aimodelshare) (1.5.3)\n",
            "Requirement already satisfied: matplotlib!=3.6.1,>=3.1 in /usr/local/lib/python3.10/dist-packages (from seaborn>=0.11.2->aimodelshare) (3.7.1)\n",
            "Requirement already satisfied: absl-py>=1.0.0 in /usr/local/lib/python3.10/dist-packages (from tensorflow>=2.12->aimodelshare) (1.4.0)\n",
            "Requirement already satisfied: gast!=0.5.0,!=0.5.1,!=0.5.2,>=0.2.1 in /usr/local/lib/python3.10/dist-packages (from tensorflow>=2.12->aimodelshare) (0.5.4)\n",
            "Requirement already satisfied: google-pasta>=0.1.1 in /usr/local/lib/python3.10/dist-packages (from tensorflow>=2.12->aimodelshare) (0.2.0)\n",
            "Requirement already satisfied: h5py>=2.9.0 in /usr/local/lib/python3.10/dist-packages (from tensorflow>=2.12->aimodelshare) (3.9.0)\n",
            "Requirement already satisfied: libclang>=13.0.0 in /usr/local/lib/python3.10/dist-packages (from tensorflow>=2.12->aimodelshare) (16.0.6)\n",
            "Requirement already satisfied: ml-dtypes==0.2.0 in /usr/local/lib/python3.10/dist-packages (from tensorflow>=2.12->aimodelshare) (0.2.0)\n",
            "Requirement already satisfied: opt-einsum>=2.3.2 in /usr/local/lib/python3.10/dist-packages (from tensorflow>=2.12->aimodelshare) (3.3.0)\n",
            "Requirement already satisfied: setuptools in /usr/local/lib/python3.10/dist-packages (from tensorflow>=2.12->aimodelshare) (67.7.2)\n",
            "Requirement already satisfied: termcolor>=1.1.0 in /usr/local/lib/python3.10/dist-packages (from tensorflow>=2.12->aimodelshare) (2.3.0)\n",
            "Requirement already satisfied: wrapt<1.15,>=1.11.0 in /usr/local/lib/python3.10/dist-packages (from tensorflow>=2.12->aimodelshare) (1.14.1)\n",
            "Requirement already satisfied: tensorflow-io-gcs-filesystem>=0.23.1 in /usr/local/lib/python3.10/dist-packages (from tensorflow>=2.12->aimodelshare) (0.34.0)\n",
            "Requirement already satisfied: grpcio<2.0,>=1.24.3 in /usr/local/lib/python3.10/dist-packages (from tensorflow>=2.12->aimodelshare) (1.59.0)\n",
            "Requirement already satisfied: tensorboard<2.15,>=2.14 in /usr/local/lib/python3.10/dist-packages (from tensorflow>=2.12->aimodelshare) (2.14.1)\n",
            "Requirement already satisfied: tensorflow-estimator<2.15,>=2.14.0 in /usr/local/lib/python3.10/dist-packages (from tensorflow>=2.12->aimodelshare) (2.14.0)\n",
            "Requirement already satisfied: keras<2.15,>=2.14.0 in /usr/local/lib/python3.10/dist-packages (from tensorflow>=2.12->aimodelshare) (2.14.0)\n",
            "Requirement already satisfied: filelock in /usr/local/lib/python3.10/dist-packages (from torch>=1.8.1->aimodelshare) (3.12.4)\n",
            "Requirement already satisfied: networkx in /usr/local/lib/python3.10/dist-packages (from torch>=1.8.1->aimodelshare) (3.2)\n",
            "Requirement already satisfied: jinja2 in /usr/local/lib/python3.10/dist-packages (from torch>=1.8.1->aimodelshare) (3.1.2)\n",
            "Requirement already satisfied: fsspec in /usr/local/lib/python3.10/dist-packages (from torch>=1.8.1->aimodelshare) (2023.6.0)\n",
            "Requirement already satisfied: triton==2.1.0 in /usr/local/lib/python3.10/dist-packages (from torch>=1.8.1->aimodelshare) (2.1.0)\n",
            "Requirement already satisfied: contourpy>=1.0.1 in /usr/local/lib/python3.10/dist-packages (from matplotlib!=3.6.1,>=3.1->seaborn>=0.11.2->aimodelshare) (1.1.1)\n",
            "Requirement already satisfied: cycler>=0.10 in /usr/local/lib/python3.10/dist-packages (from matplotlib!=3.6.1,>=3.1->seaborn>=0.11.2->aimodelshare) (0.12.1)\n",
            "Requirement already satisfied: fonttools>=4.22.0 in /usr/local/lib/python3.10/dist-packages (from matplotlib!=3.6.1,>=3.1->seaborn>=0.11.2->aimodelshare) (4.43.1)\n",
            "Requirement already satisfied: kiwisolver>=1.0.1 in /usr/local/lib/python3.10/dist-packages (from matplotlib!=3.6.1,>=3.1->seaborn>=0.11.2->aimodelshare) (1.4.5)\n",
            "Requirement already satisfied: pillow>=6.2.0 in /usr/local/lib/python3.10/dist-packages (from matplotlib!=3.6.1,>=3.1->seaborn>=0.11.2->aimodelshare) (9.4.0)\n",
            "Requirement already satisfied: pytz>=2020.1 in /usr/local/lib/python3.10/dist-packages (from pandas>=0.25->seaborn>=0.11.2->aimodelshare) (2023.3.post1)\n",
            "Requirement already satisfied: charset-normalizer<4,>=2 in /usr/local/lib/python3.10/dist-packages (from requests!=2.18.0,>=2.14.2->docker==5.0.0->aimodelshare) (3.3.1)\n",
            "Requirement already satisfied: idna<4,>=2.5 in /usr/local/lib/python3.10/dist-packages (from requests!=2.18.0,>=2.14.2->docker==5.0.0->aimodelshare) (3.4)\n",
            "Requirement already satisfied: certifi>=2017.4.17 in /usr/local/lib/python3.10/dist-packages (from requests!=2.18.0,>=2.14.2->docker==5.0.0->aimodelshare) (2023.7.22)\n",
            "Requirement already satisfied: google-auth<3,>=1.6.3 in /usr/local/lib/python3.10/dist-packages (from tensorboard<2.15,>=2.14->tensorflow>=2.12->aimodelshare) (2.17.3)\n",
            "Requirement already satisfied: google-auth-oauthlib<1.1,>=0.5 in /usr/local/lib/python3.10/dist-packages (from tensorboard<2.15,>=2.14->tensorflow>=2.12->aimodelshare) (1.0.0)\n",
            "Requirement already satisfied: markdown>=2.6.8 in /usr/local/lib/python3.10/dist-packages (from tensorboard<2.15,>=2.14->tensorflow>=2.12->aimodelshare) (3.5)\n",
            "Requirement already satisfied: tensorboard-data-server<0.8.0,>=0.7.0 in /usr/local/lib/python3.10/dist-packages (from tensorboard<2.15,>=2.14->tensorflow>=2.12->aimodelshare) (0.7.2)\n",
            "Requirement already satisfied: werkzeug>=1.0.1 in /usr/local/lib/python3.10/dist-packages (from tensorboard<2.15,>=2.14->tensorflow>=2.12->aimodelshare) (3.0.1)\n",
            "Requirement already satisfied: humanfriendly>=9.1 in /usr/local/lib/python3.10/dist-packages (from coloredlogs->onnxruntime>=1.7.0->aimodelshare) (10.0)\n",
            "Requirement already satisfied: MarkupSafe>=2.0 in /usr/local/lib/python3.10/dist-packages (from jinja2->torch>=1.8.1->aimodelshare) (2.1.3)\n",
            "Requirement already satisfied: mpmath>=0.19 in /usr/local/lib/python3.10/dist-packages (from sympy->onnxruntime>=1.7.0->aimodelshare) (1.3.0)\n",
            "Requirement already satisfied: cachetools<6.0,>=2.0.0 in /usr/local/lib/python3.10/dist-packages (from google-auth<3,>=1.6.3->tensorboard<2.15,>=2.14->tensorflow>=2.12->aimodelshare) (5.3.2)\n",
            "Requirement already satisfied: pyasn1-modules>=0.2.1 in /usr/local/lib/python3.10/dist-packages (from google-auth<3,>=1.6.3->tensorboard<2.15,>=2.14->tensorflow>=2.12->aimodelshare) (0.3.0)\n",
            "Requirement already satisfied: rsa<5,>=3.1.4 in /usr/local/lib/python3.10/dist-packages (from google-auth<3,>=1.6.3->tensorboard<2.15,>=2.14->tensorflow>=2.12->aimodelshare) (4.9)\n",
            "Requirement already satisfied: requests-oauthlib>=0.7.0 in /usr/local/lib/python3.10/dist-packages (from google-auth-oauthlib<1.1,>=0.5->tensorboard<2.15,>=2.14->tensorflow>=2.12->aimodelshare) (1.3.1)\n",
            "Requirement already satisfied: pyasn1<0.6.0,>=0.4.6 in /usr/local/lib/python3.10/dist-packages (from pyasn1-modules>=0.2.1->google-auth<3,>=1.6.3->tensorboard<2.15,>=2.14->tensorflow>=2.12->aimodelshare) (0.5.0)\n",
            "Requirement already satisfied: oauthlib>=3.0.0 in /usr/local/lib/python3.10/dist-packages (from requests-oauthlib>=0.7.0->google-auth-oauthlib<1.1,>=0.5->tensorboard<2.15,>=2.14->tensorflow>=2.12->aimodelshare) (3.2.2)\n"
          ]
        }
      ]
    },
    {
      "cell_type": "code",
      "execution_count": 30,
      "metadata": {
        "id": "C-PNkEUmG9wZ",
        "colab": {
          "base_uri": "https://localhost:8080/"
        },
        "outputId": "b124aab4-d93c-4d57-edd1-13c133e66076"
      },
      "outputs": [
        {
          "output_type": "stream",
          "name": "stdout",
          "text": [
            "Warning: Please install pyspark to enable pyspark features\n",
            "Modelshare.ai Username:··········\n",
            "Modelshare.ai Password:··········\n",
            "Modelshare.ai login credentials set successfully.\n"
          ]
        }
      ],
      "source": [
        "apiurl='https://w2zzwqfobi.execute-api.us-east-2.amazonaws.com/prod/m'\n",
        "\n",
        "from aimodelshare.playground import ModelPlayground\n",
        "experiment=ModelPlayground(playground_url=apiurl, task_type=\"classification\")\n",
        "\n",
        "from aimodelshare.aws import set_credentials\n",
        "set_credentials(apiurl=apiurl)"
      ]
    },
    {
      "cell_type": "code",
      "execution_count": 37,
      "metadata": {
        "id": "-fnvDBWl-NDB",
        "colab": {
          "base_uri": "https://localhost:8080/"
        },
        "outputId": "cc5c7610-0d88-4f01-86fb-198294264e39"
      },
      "outputs": [
        {
          "output_type": "stream",
          "name": "stdout",
          "text": [
            "Timeout: Model to ONNX conversion is taking longer than expected. This can be the case for big models.\n",
            "Do you want to keep trying (1) or submit predictions only (2)? 2\n",
            "\n",
            "Insert search tags to help users find your model (optional): \n",
            "Provide any useful notes about your model (optional): \n",
            "Your model has been submitted to experiment as model version 15.\n",
            "\n",
            "Visit your Model Playground Page for more.\n",
            "https://www.modelshare.ai/detail/model:3867\n"
          ]
        }
      ],
      "source": [
        "# Submit Model 1 to Competition Leaderboard\n",
        "experiment.submit_model(model= model,\n",
        "                                 preprocessor = None,\n",
        "                                 prediction_submission=prediction_labels)"
      ]
    },
    {
      "cell_type": "markdown",
      "metadata": {
        "id": "j8ZTKNJaKlrd"
      },
      "source": [
        "#### model2"
      ]
    },
    {
      "cell_type": "code",
      "execution_count": 38,
      "metadata": {
        "id": "RqFChXZMKofx",
        "colab": {
          "base_uri": "https://localhost:8080/"
        },
        "outputId": "3f3ac25a-65b5-4d41-d4be-cf053fe16975"
      },
      "outputs": [
        {
          "output_type": "stream",
          "name": "stdout",
          "text": [
            "41/41 [==============================] - 2s 34ms/step\n"
          ]
        }
      ],
      "source": [
        "#Use X_test data to generate model predictions and make leaderboard submission\n",
        "\n",
        "#Generate and save predictions\n",
        "\n",
        "#Load preprocessed data\n",
        "#If you run out of Colab memory restart runtime, reload data and try again\n",
        "import pickle\n",
        "\n",
        "# Open the file in binary mode\n",
        "with open('X_test.pkl', 'rb') as file:\n",
        "    # Call load method to deserialze\n",
        "    X_test = pickle.load(file)\n",
        "\n",
        "# Open the file in binary mode\n",
        "with open('y_train.pkl', 'rb') as file:\n",
        "    # Call load method to deserialze\n",
        "    y_train = pickle.load(file)\n",
        "\n",
        "prediction_column_index=model2.predict(X_test).argmax(axis=1)\n",
        "\n",
        "# extract correct prediction labels\n",
        "prediction_labels = [y_train.columns[i] for i in prediction_column_index]"
      ]
    },
    {
      "cell_type": "code",
      "execution_count": 39,
      "metadata": {
        "id": "BTg_AwHNKr-k",
        "colab": {
          "base_uri": "https://localhost:8080/"
        },
        "outputId": "2afb2ba2-9c4d-4c30-abd7-2dfadf4d29aa"
      },
      "outputs": [
        {
          "output_type": "stream",
          "name": "stdout",
          "text": [
            "Timeout: Model to ONNX conversion is taking longer than expected. This can be the case for big models.\n",
            "Do you want to keep trying (1) or submit predictions only (2)? 2\n",
            "\n",
            "Insert search tags to help users find your model (optional): \n",
            "Provide any useful notes about your model (optional): \n",
            "Your model has been submitted to experiment as model version 16.\n",
            "\n",
            "Visit your Model Playground Page for more.\n",
            "https://www.modelshare.ai/detail/model:3867\n"
          ]
        }
      ],
      "source": [
        "# Submit Model 1 to Competition Leaderboard\n",
        "experiment.submit_model(model= model2,\n",
        "                                 preprocessor = None,\n",
        "                                 prediction_submission=prediction_labels)"
      ]
    },
    {
      "cell_type": "markdown",
      "metadata": {
        "id": "70Ut2UdhLCtN"
      },
      "source": [
        "#### Model3"
      ]
    },
    {
      "cell_type": "code",
      "execution_count": 40,
      "metadata": {
        "id": "0Uyn8Tl3LCME",
        "colab": {
          "base_uri": "https://localhost:8080/"
        },
        "outputId": "c6840528-20e2-4049-acf9-2ca03d8d8850"
      },
      "outputs": [
        {
          "output_type": "stream",
          "name": "stdout",
          "text": [
            "41/41 [==============================] - 1s 31ms/step\n"
          ]
        }
      ],
      "source": [
        "#Use X_test data to generate model predictions and make leaderboard submission\n",
        "\n",
        "#Generate and save predictions\n",
        "\n",
        "#Load preprocessed data\n",
        "#If you run out of Colab memory restart runtime, reload data and try again\n",
        "import pickle\n",
        "\n",
        "# Open the file in binary mode\n",
        "with open('X_test.pkl', 'rb') as file:\n",
        "    # Call load method to deserialze\n",
        "    X_test = pickle.load(file)\n",
        "\n",
        "# Open the file in binary mode\n",
        "with open('y_train.pkl', 'rb') as file:\n",
        "    # Call load method to deserialze\n",
        "    y_train = pickle.load(file)\n",
        "\n",
        "prediction_column_index=model3.predict(X_test).argmax(axis=1)\n",
        "\n",
        "# extract correct prediction labels\n",
        "prediction_labels = [y_train.columns[i] for i in prediction_column_index]"
      ]
    },
    {
      "cell_type": "code",
      "execution_count": 41,
      "metadata": {
        "id": "R3vfcBwcLGrk",
        "colab": {
          "base_uri": "https://localhost:8080/"
        },
        "outputId": "d3770dce-9a5e-42b5-d2ee-aa58095878ec"
      },
      "outputs": [
        {
          "output_type": "stream",
          "name": "stdout",
          "text": [
            "Timeout: Model to ONNX conversion is taking longer than expected. This can be the case for big models.\n",
            "Do you want to keep trying (1) or submit predictions only (2)? 2\n",
            "\n",
            "Insert search tags to help users find your model (optional): \n",
            "Provide any useful notes about your model (optional): \n",
            "Your model has been submitted to experiment as model version 17.\n",
            "\n",
            "Visit your Model Playground Page for more.\n",
            "https://www.modelshare.ai/detail/model:3867\n"
          ]
        }
      ],
      "source": [
        "# Submit Model 3 to Competition Leaderboard\n",
        "experiment.submit_model(model= model3,\n",
        "                                 preprocessor = None,\n",
        "                                 prediction_submission=prediction_labels)"
      ]
    },
    {
      "cell_type": "code",
      "execution_count": 42,
      "metadata": {
        "id": "Ev2KUePr-PPi",
        "colab": {
          "base_uri": "https://localhost:8080/",
          "height": 582
        },
        "outputId": "192ab72d-8679-42de-a77a-521ca79e8250"
      },
      "outputs": [
        {
          "output_type": "execute_result",
          "data": {
            "text/plain": [
              "<pandas.io.formats.style.Styler at 0x7fe7259ab4c0>"
            ],
            "text/html": [
              "<style type=\"text/css\">\n",
              "#T_596f8_row0_col0, #T_596f8_row1_col0 {\n",
              "  text-align: center;\n",
              "  width: 10em;\n",
              "  background: linear-gradient(90deg, #f5f8d6 90.3%, transparent 90.3%);\n",
              "  color: #251e1b;\n",
              "  font-size: 12px;\n",
              "}\n",
              "#T_596f8_row0_col1, #T_596f8_row1_col1 {\n",
              "  text-align: center;\n",
              "  width: 10em;\n",
              "  background: linear-gradient(90deg, #c778c8 90.2%, transparent 90.2%);\n",
              "  color: #251e1b;\n",
              "  font-size: 12px;\n",
              "}\n",
              "#T_596f8_row0_col2, #T_596f8_row1_col2 {\n",
              "  text-align: center;\n",
              "  width: 10em;\n",
              "  background: linear-gradient(90deg, #ff4971 90.4%, transparent 90.4%);\n",
              "  color: #251e1b;\n",
              "  font-size: 12px;\n",
              "}\n",
              "#T_596f8_row0_col3, #T_596f8_row1_col3 {\n",
              "  text-align: center;\n",
              "  width: 10em;\n",
              "  background: linear-gradient(90deg, #aadbaa 90.3%, transparent 90.3%);\n",
              "  color: #251e1b;\n",
              "  font-size: 12px;\n",
              "}\n",
              "#T_596f8_row0_col4, #T_596f8_row0_col5, #T_596f8_row0_col6, #T_596f8_row0_col7, #T_596f8_row1_col4, #T_596f8_row1_col5, #T_596f8_row1_col6, #T_596f8_row1_col7, #T_596f8_row2_col4, #T_596f8_row2_col5, #T_596f8_row2_col6, #T_596f8_row2_col7, #T_596f8_row3_col4, #T_596f8_row3_col5, #T_596f8_row3_col6, #T_596f8_row3_col7, #T_596f8_row4_col4, #T_596f8_row4_col5, #T_596f8_row4_col6, #T_596f8_row4_col7, #T_596f8_row5_col4, #T_596f8_row5_col5, #T_596f8_row5_col6, #T_596f8_row5_col7, #T_596f8_row6_col4, #T_596f8_row6_col5, #T_596f8_row6_col6, #T_596f8_row6_col7, #T_596f8_row7_col4, #T_596f8_row7_col5, #T_596f8_row7_col6, #T_596f8_row7_col7, #T_596f8_row8_col4, #T_596f8_row8_col5, #T_596f8_row8_col6, #T_596f8_row8_col7, #T_596f8_row9_col4, #T_596f8_row9_col5, #T_596f8_row9_col6, #T_596f8_row9_col7, #T_596f8_row10_col4, #T_596f8_row10_col5, #T_596f8_row10_col6, #T_596f8_row10_col7, #T_596f8_row11_col4, #T_596f8_row11_col5, #T_596f8_row11_col6, #T_596f8_row11_col7, #T_596f8_row12_col4, #T_596f8_row12_col5, #T_596f8_row12_col6, #T_596f8_row12_col7, #T_596f8_row13_col4, #T_596f8_row13_col5, #T_596f8_row13_col6, #T_596f8_row13_col7, #T_596f8_row14_col4, #T_596f8_row14_col5, #T_596f8_row14_col6, #T_596f8_row14_col7, #T_596f8_row15_col4, #T_596f8_row15_col5, #T_596f8_row15_col6, #T_596f8_row15_col7, #T_596f8_row16_col4, #T_596f8_row16_col5, #T_596f8_row16_col6, #T_596f8_row16_col7 {\n",
              "  text-align: center;\n",
              "}\n",
              "#T_596f8_row2_col0 {\n",
              "  text-align: center;\n",
              "  width: 10em;\n",
              "  background: linear-gradient(90deg, #f5f8d6 86.4%, transparent 86.4%);\n",
              "  color: #251e1b;\n",
              "  font-size: 12px;\n",
              "}\n",
              "#T_596f8_row2_col1 {\n",
              "  text-align: center;\n",
              "  width: 10em;\n",
              "  background: linear-gradient(90deg, #c778c8 85.9%, transparent 85.9%);\n",
              "  color: #251e1b;\n",
              "  font-size: 12px;\n",
              "}\n",
              "#T_596f8_row2_col2 {\n",
              "  text-align: center;\n",
              "  width: 10em;\n",
              "  background: linear-gradient(90deg, #ff4971 87.6%, transparent 87.6%);\n",
              "  color: #251e1b;\n",
              "  font-size: 12px;\n",
              "}\n",
              "#T_596f8_row2_col3 {\n",
              "  text-align: center;\n",
              "  width: 10em;\n",
              "  background: linear-gradient(90deg, #aadbaa 86.4%, transparent 86.4%);\n",
              "  color: #251e1b;\n",
              "  font-size: 12px;\n",
              "}\n",
              "#T_596f8_row3_col0 {\n",
              "  text-align: center;\n",
              "  width: 10em;\n",
              "  background: linear-gradient(90deg, #f5f8d6 75.8%, transparent 75.8%);\n",
              "  color: #251e1b;\n",
              "  font-size: 12px;\n",
              "}\n",
              "#T_596f8_row3_col1 {\n",
              "  text-align: center;\n",
              "  width: 10em;\n",
              "  background: linear-gradient(90deg, #c778c8 75.8%, transparent 75.8%);\n",
              "  color: #251e1b;\n",
              "  font-size: 12px;\n",
              "}\n",
              "#T_596f8_row3_col2 {\n",
              "  text-align: center;\n",
              "  width: 10em;\n",
              "  background: linear-gradient(90deg, #ff4971 76.5%, transparent 76.5%);\n",
              "  color: #251e1b;\n",
              "  font-size: 12px;\n",
              "}\n",
              "#T_596f8_row3_col3 {\n",
              "  text-align: center;\n",
              "  width: 10em;\n",
              "  background: linear-gradient(90deg, #aadbaa 75.8%, transparent 75.8%);\n",
              "  color: #251e1b;\n",
              "  font-size: 12px;\n",
              "}\n",
              "#T_596f8_row4_col0 {\n",
              "  text-align: center;\n",
              "  width: 10em;\n",
              "  background: linear-gradient(90deg, #f5f8d6 74.3%, transparent 74.3%);\n",
              "  color: #251e1b;\n",
              "  font-size: 12px;\n",
              "}\n",
              "#T_596f8_row4_col1 {\n",
              "  text-align: center;\n",
              "  width: 10em;\n",
              "  background: linear-gradient(90deg, #c778c8 74.1%, transparent 74.1%);\n",
              "  color: #251e1b;\n",
              "  font-size: 12px;\n",
              "}\n",
              "#T_596f8_row4_col2 {\n",
              "  text-align: center;\n",
              "  width: 10em;\n",
              "  background: linear-gradient(90deg, #ff4971 77.0%, transparent 77.0%);\n",
              "  color: #251e1b;\n",
              "  font-size: 12px;\n",
              "}\n",
              "#T_596f8_row4_col3 {\n",
              "  text-align: center;\n",
              "  width: 10em;\n",
              "  background: linear-gradient(90deg, #aadbaa 74.3%, transparent 74.3%);\n",
              "  color: #251e1b;\n",
              "  font-size: 12px;\n",
              "}\n",
              "#T_596f8_row5_col0, #T_596f8_row6_col0, #T_596f8_row7_col0, #T_596f8_row8_col0 {\n",
              "  text-align: center;\n",
              "  width: 10em;\n",
              "  background: linear-gradient(90deg, #f5f8d6 73.0%, transparent 73.0%);\n",
              "  color: #251e1b;\n",
              "  font-size: 12px;\n",
              "}\n",
              "#T_596f8_row5_col1, #T_596f8_row6_col1, #T_596f8_row7_col1, #T_596f8_row8_col1 {\n",
              "  text-align: center;\n",
              "  width: 10em;\n",
              "  background: linear-gradient(90deg, #c778c8 71.5%, transparent 71.5%);\n",
              "  color: #251e1b;\n",
              "  font-size: 12px;\n",
              "}\n",
              "#T_596f8_row5_col2, #T_596f8_row6_col2, #T_596f8_row7_col2, #T_596f8_row8_col2 {\n",
              "  text-align: center;\n",
              "  width: 10em;\n",
              "  background: linear-gradient(90deg, #ff4971 75.7%, transparent 75.7%);\n",
              "  color: #251e1b;\n",
              "  font-size: 12px;\n",
              "}\n",
              "#T_596f8_row5_col3, #T_596f8_row6_col3, #T_596f8_row7_col3, #T_596f8_row8_col3 {\n",
              "  text-align: center;\n",
              "  width: 10em;\n",
              "  background: linear-gradient(90deg, #aadbaa 73.0%, transparent 73.0%);\n",
              "  color: #251e1b;\n",
              "  font-size: 12px;\n",
              "}\n",
              "#T_596f8_row9_col0 {\n",
              "  text-align: center;\n",
              "  width: 10em;\n",
              "  background: linear-gradient(90deg, #f5f8d6 72.5%, transparent 72.5%);\n",
              "  color: #251e1b;\n",
              "  font-size: 12px;\n",
              "}\n",
              "#T_596f8_row9_col1 {\n",
              "  text-align: center;\n",
              "  width: 10em;\n",
              "  background: linear-gradient(90deg, #c778c8 71.8%, transparent 71.8%);\n",
              "  color: #251e1b;\n",
              "  font-size: 12px;\n",
              "}\n",
              "#T_596f8_row9_col2 {\n",
              "  text-align: center;\n",
              "  width: 10em;\n",
              "  background: linear-gradient(90deg, #ff4971 71.9%, transparent 71.9%);\n",
              "  color: #251e1b;\n",
              "  font-size: 12px;\n",
              "}\n",
              "#T_596f8_row9_col3 {\n",
              "  text-align: center;\n",
              "  width: 10em;\n",
              "  background: linear-gradient(90deg, #aadbaa 72.5%, transparent 72.5%);\n",
              "  color: #251e1b;\n",
              "  font-size: 12px;\n",
              "}\n",
              "#T_596f8_row10_col0 {\n",
              "  text-align: center;\n",
              "  width: 10em;\n",
              "  background: linear-gradient(90deg, #f5f8d6 66.7%, transparent 66.7%);\n",
              "  color: #251e1b;\n",
              "  font-size: 12px;\n",
              "}\n",
              "#T_596f8_row10_col1 {\n",
              "  text-align: center;\n",
              "  width: 10em;\n",
              "  background: linear-gradient(90deg, #c778c8 65.0%, transparent 65.0%);\n",
              "  color: #251e1b;\n",
              "  font-size: 12px;\n",
              "}\n",
              "#T_596f8_row10_col2 {\n",
              "  text-align: center;\n",
              "  width: 10em;\n",
              "  background: linear-gradient(90deg, #ff4971 72.2%, transparent 72.2%);\n",
              "  color: #251e1b;\n",
              "  font-size: 12px;\n",
              "}\n",
              "#T_596f8_row10_col3 {\n",
              "  text-align: center;\n",
              "  width: 10em;\n",
              "  background: linear-gradient(90deg, #aadbaa 66.7%, transparent 66.7%);\n",
              "  color: #251e1b;\n",
              "  font-size: 12px;\n",
              "}\n",
              "#T_596f8_row11_col0, #T_596f8_row12_col0, #T_596f8_row13_col0, #T_596f8_row14_col0, #T_596f8_row15_col0 {\n",
              "  text-align: center;\n",
              "  width: 10em;\n",
              "  background: linear-gradient(90deg, #f5f8d6 59.6%, transparent 59.6%);\n",
              "  color: #251e1b;\n",
              "  font-size: 12px;\n",
              "}\n",
              "#T_596f8_row11_col1, #T_596f8_row12_col1, #T_596f8_row13_col1, #T_596f8_row14_col1, #T_596f8_row15_col1 {\n",
              "  text-align: center;\n",
              "  width: 10em;\n",
              "  background: linear-gradient(90deg, #c778c8 48.3%, transparent 48.3%);\n",
              "  color: #251e1b;\n",
              "  font-size: 12px;\n",
              "}\n",
              "#T_596f8_row11_col2, #T_596f8_row12_col2, #T_596f8_row13_col2, #T_596f8_row14_col2, #T_596f8_row15_col2 {\n",
              "  text-align: center;\n",
              "  width: 10em;\n",
              "  background: linear-gradient(90deg, #ff4971 40.8%, transparent 40.8%);\n",
              "  color: #251e1b;\n",
              "  font-size: 12px;\n",
              "}\n",
              "#T_596f8_row11_col3, #T_596f8_row12_col3, #T_596f8_row13_col3, #T_596f8_row14_col3, #T_596f8_row15_col3 {\n",
              "  text-align: center;\n",
              "  width: 10em;\n",
              "  background: linear-gradient(90deg, #aadbaa 59.6%, transparent 59.6%);\n",
              "  color: #251e1b;\n",
              "  font-size: 12px;\n",
              "}\n",
              "#T_596f8_row16_col0 {\n",
              "  text-align: center;\n",
              "  width: 10em;\n",
              "  background: linear-gradient(90deg, #f5f8d6 33.3%, transparent 33.3%);\n",
              "  color: #251e1b;\n",
              "  font-size: 12px;\n",
              "}\n",
              "#T_596f8_row16_col1 {\n",
              "  text-align: center;\n",
              "  width: 10em;\n",
              "  background: linear-gradient(90deg, #c778c8 16.7%, transparent 16.7%);\n",
              "  color: #251e1b;\n",
              "  font-size: 12px;\n",
              "}\n",
              "#T_596f8_row16_col2 {\n",
              "  text-align: center;\n",
              "  width: 10em;\n",
              "  background: linear-gradient(90deg, #ff4971 11.1%, transparent 11.1%);\n",
              "  color: #251e1b;\n",
              "  font-size: 12px;\n",
              "}\n",
              "#T_596f8_row16_col3 {\n",
              "  text-align: center;\n",
              "  width: 10em;\n",
              "  background: linear-gradient(90deg, #aadbaa 33.3%, transparent 33.3%);\n",
              "  color: #251e1b;\n",
              "  font-size: 12px;\n",
              "}\n",
              "</style>\n",
              "<table id=\"T_596f8\" class=\"dataframe\">\n",
              "  <thead>\n",
              "    <tr>\n",
              "      <th class=\"blank level0\" >&nbsp;</th>\n",
              "      <th id=\"T_596f8_level0_col0\" class=\"col_heading level0 col0\" >accuracy</th>\n",
              "      <th id=\"T_596f8_level0_col1\" class=\"col_heading level0 col1\" >f1_score</th>\n",
              "      <th id=\"T_596f8_level0_col2\" class=\"col_heading level0 col2\" >precision</th>\n",
              "      <th id=\"T_596f8_level0_col3\" class=\"col_heading level0 col3\" >recall</th>\n",
              "      <th id=\"T_596f8_level0_col4\" class=\"col_heading level0 col4\" >ml_framework</th>\n",
              "      <th id=\"T_596f8_level0_col5\" class=\"col_heading level0 col5\" >model_type</th>\n",
              "      <th id=\"T_596f8_level0_col6\" class=\"col_heading level0 col6\" >username</th>\n",
              "      <th id=\"T_596f8_level0_col7\" class=\"col_heading level0 col7\" >version</th>\n",
              "    </tr>\n",
              "  </thead>\n",
              "  <tbody>\n",
              "    <tr>\n",
              "      <th id=\"T_596f8_level0_row0\" class=\"row_heading level0 row0\" >0</th>\n",
              "      <td id=\"T_596f8_row0_col0\" class=\"data row0 col0\" >90.32%</td>\n",
              "      <td id=\"T_596f8_row0_col1\" class=\"data row0 col1\" >90.22%</td>\n",
              "      <td id=\"T_596f8_row0_col2\" class=\"data row0 col2\" >90.36%</td>\n",
              "      <td id=\"T_596f8_row0_col3\" class=\"data row0 col3\" >90.31%</td>\n",
              "      <td id=\"T_596f8_row0_col4\" class=\"data row0 col4\" >unknown</td>\n",
              "      <td id=\"T_596f8_row0_col5\" class=\"data row0 col5\" >unknown</td>\n",
              "      <td id=\"T_596f8_row0_col6\" class=\"data row0 col6\" >xutian0117</td>\n",
              "      <td id=\"T_596f8_row0_col7\" class=\"data row0 col7\" >15</td>\n",
              "    </tr>\n",
              "    <tr>\n",
              "      <th id=\"T_596f8_level0_row1\" class=\"row_heading level0 row1\" >1</th>\n",
              "      <td id=\"T_596f8_row1_col0\" class=\"data row1 col0\" >90.32%</td>\n",
              "      <td id=\"T_596f8_row1_col1\" class=\"data row1 col1\" >90.22%</td>\n",
              "      <td id=\"T_596f8_row1_col2\" class=\"data row1 col2\" >90.36%</td>\n",
              "      <td id=\"T_596f8_row1_col3\" class=\"data row1 col3\" >90.31%</td>\n",
              "      <td id=\"T_596f8_row1_col4\" class=\"data row1 col4\" >unknown</td>\n",
              "      <td id=\"T_596f8_row1_col5\" class=\"data row1 col5\" >unknown</td>\n",
              "      <td id=\"T_596f8_row1_col6\" class=\"data row1 col6\" >xutian0117</td>\n",
              "      <td id=\"T_596f8_row1_col7\" class=\"data row1 col7\" >14</td>\n",
              "    </tr>\n",
              "    <tr>\n",
              "      <th id=\"T_596f8_level0_row2\" class=\"row_heading level0 row2\" >2</th>\n",
              "      <td id=\"T_596f8_row2_col0\" class=\"data row2 col0\" >86.37%</td>\n",
              "      <td id=\"T_596f8_row2_col1\" class=\"data row2 col1\" >85.93%</td>\n",
              "      <td id=\"T_596f8_row2_col2\" class=\"data row2 col2\" >87.61%</td>\n",
              "      <td id=\"T_596f8_row2_col3\" class=\"data row2 col3\" >86.36%</td>\n",
              "      <td id=\"T_596f8_row2_col4\" class=\"data row2 col4\" >unknown</td>\n",
              "      <td id=\"T_596f8_row2_col5\" class=\"data row2 col5\" >unknown</td>\n",
              "      <td id=\"T_596f8_row2_col6\" class=\"data row2 col6\" >xutian0117</td>\n",
              "      <td id=\"T_596f8_row2_col7\" class=\"data row2 col7\" >16</td>\n",
              "    </tr>\n",
              "    <tr>\n",
              "      <th id=\"T_596f8_level0_row3\" class=\"row_heading level0 row3\" >3</th>\n",
              "      <td id=\"T_596f8_row3_col0\" class=\"data row3 col0\" >75.76%</td>\n",
              "      <td id=\"T_596f8_row3_col1\" class=\"data row3 col1\" >75.79%</td>\n",
              "      <td id=\"T_596f8_row3_col2\" class=\"data row3 col2\" >76.52%</td>\n",
              "      <td id=\"T_596f8_row3_col3\" class=\"data row3 col3\" >75.76%</td>\n",
              "      <td id=\"T_596f8_row3_col4\" class=\"data row3 col4\" >unknown</td>\n",
              "      <td id=\"T_596f8_row3_col5\" class=\"data row3 col5\" >unknown</td>\n",
              "      <td id=\"T_596f8_row3_col6\" class=\"data row3 col6\" >xutian0117</td>\n",
              "      <td id=\"T_596f8_row3_col7\" class=\"data row3 col7\" >12</td>\n",
              "    </tr>\n",
              "    <tr>\n",
              "      <th id=\"T_596f8_level0_row4\" class=\"row_heading level0 row4\" >4</th>\n",
              "      <td id=\"T_596f8_row4_col0\" class=\"data row4 col0\" >74.28%</td>\n",
              "      <td id=\"T_596f8_row4_col1\" class=\"data row4 col1\" >74.15%</td>\n",
              "      <td id=\"T_596f8_row4_col2\" class=\"data row4 col2\" >76.97%</td>\n",
              "      <td id=\"T_596f8_row4_col3\" class=\"data row4 col3\" >74.29%</td>\n",
              "      <td id=\"T_596f8_row4_col4\" class=\"data row4 col4\" >unknown</td>\n",
              "      <td id=\"T_596f8_row4_col5\" class=\"data row4 col5\" >unknown</td>\n",
              "      <td id=\"T_596f8_row4_col6\" class=\"data row4 col6\" >xutian0117</td>\n",
              "      <td id=\"T_596f8_row4_col7\" class=\"data row4 col7\" >13</td>\n",
              "    </tr>\n",
              "    <tr>\n",
              "      <th id=\"T_596f8_level0_row5\" class=\"row_heading level0 row5\" >5</th>\n",
              "      <td id=\"T_596f8_row5_col0\" class=\"data row5 col0\" >73.04%</td>\n",
              "      <td id=\"T_596f8_row5_col1\" class=\"data row5 col1\" >71.53%</td>\n",
              "      <td id=\"T_596f8_row5_col2\" class=\"data row5 col2\" >75.72%</td>\n",
              "      <td id=\"T_596f8_row5_col3\" class=\"data row5 col3\" >73.03%</td>\n",
              "      <td id=\"T_596f8_row5_col4\" class=\"data row5 col4\" >unknown</td>\n",
              "      <td id=\"T_596f8_row5_col5\" class=\"data row5 col5\" >unknown</td>\n",
              "      <td id=\"T_596f8_row5_col6\" class=\"data row5 col6\" >jiananyang81</td>\n",
              "      <td id=\"T_596f8_row5_col7\" class=\"data row5 col7\" >9</td>\n",
              "    </tr>\n",
              "    <tr>\n",
              "      <th id=\"T_596f8_level0_row6\" class=\"row_heading level0 row6\" >6</th>\n",
              "      <td id=\"T_596f8_row6_col0\" class=\"data row6 col0\" >73.04%</td>\n",
              "      <td id=\"T_596f8_row6_col1\" class=\"data row6 col1\" >71.53%</td>\n",
              "      <td id=\"T_596f8_row6_col2\" class=\"data row6 col2\" >75.72%</td>\n",
              "      <td id=\"T_596f8_row6_col3\" class=\"data row6 col3\" >73.03%</td>\n",
              "      <td id=\"T_596f8_row6_col4\" class=\"data row6 col4\" >unknown</td>\n",
              "      <td id=\"T_596f8_row6_col5\" class=\"data row6 col5\" >unknown</td>\n",
              "      <td id=\"T_596f8_row6_col6\" class=\"data row6 col6\" >jiananyang81</td>\n",
              "      <td id=\"T_596f8_row6_col7\" class=\"data row6 col7\" >7</td>\n",
              "    </tr>\n",
              "    <tr>\n",
              "      <th id=\"T_596f8_level0_row7\" class=\"row_heading level0 row7\" >7</th>\n",
              "      <td id=\"T_596f8_row7_col0\" class=\"data row7 col0\" >73.04%</td>\n",
              "      <td id=\"T_596f8_row7_col1\" class=\"data row7 col1\" >71.53%</td>\n",
              "      <td id=\"T_596f8_row7_col2\" class=\"data row7 col2\" >75.72%</td>\n",
              "      <td id=\"T_596f8_row7_col3\" class=\"data row7 col3\" >73.03%</td>\n",
              "      <td id=\"T_596f8_row7_col4\" class=\"data row7 col4\" >unknown</td>\n",
              "      <td id=\"T_596f8_row7_col5\" class=\"data row7 col5\" >unknown</td>\n",
              "      <td id=\"T_596f8_row7_col6\" class=\"data row7 col6\" >jiananyang81</td>\n",
              "      <td id=\"T_596f8_row7_col7\" class=\"data row7 col7\" >8</td>\n",
              "    </tr>\n",
              "    <tr>\n",
              "      <th id=\"T_596f8_level0_row8\" class=\"row_heading level0 row8\" >8</th>\n",
              "      <td id=\"T_596f8_row8_col0\" class=\"data row8 col0\" >73.04%</td>\n",
              "      <td id=\"T_596f8_row8_col1\" class=\"data row8 col1\" >71.53%</td>\n",
              "      <td id=\"T_596f8_row8_col2\" class=\"data row8 col2\" >75.72%</td>\n",
              "      <td id=\"T_596f8_row8_col3\" class=\"data row8 col3\" >73.03%</td>\n",
              "      <td id=\"T_596f8_row8_col4\" class=\"data row8 col4\" >unknown</td>\n",
              "      <td id=\"T_596f8_row8_col5\" class=\"data row8 col5\" >unknown</td>\n",
              "      <td id=\"T_596f8_row8_col6\" class=\"data row8 col6\" >jiananyang81</td>\n",
              "      <td id=\"T_596f8_row8_col7\" class=\"data row8 col7\" >10</td>\n",
              "    </tr>\n",
              "    <tr>\n",
              "      <th id=\"T_596f8_level0_row9\" class=\"row_heading level0 row9\" >9</th>\n",
              "      <td id=\"T_596f8_row9_col0\" class=\"data row9 col0\" >72.50%</td>\n",
              "      <td id=\"T_596f8_row9_col1\" class=\"data row9 col1\" >71.79%</td>\n",
              "      <td id=\"T_596f8_row9_col2\" class=\"data row9 col2\" >71.89%</td>\n",
              "      <td id=\"T_596f8_row9_col3\" class=\"data row9 col3\" >72.49%</td>\n",
              "      <td id=\"T_596f8_row9_col4\" class=\"data row9 col4\" >unknown</td>\n",
              "      <td id=\"T_596f8_row9_col5\" class=\"data row9 col5\" >unknown</td>\n",
              "      <td id=\"T_596f8_row9_col6\" class=\"data row9 col6\" >xutian0117</td>\n",
              "      <td id=\"T_596f8_row9_col7\" class=\"data row9 col7\" >11</td>\n",
              "    </tr>\n",
              "    <tr>\n",
              "      <th id=\"T_596f8_level0_row10\" class=\"row_heading level0 row10\" >10</th>\n",
              "      <td id=\"T_596f8_row10_col0\" class=\"data row10 col0\" >66.69%</td>\n",
              "      <td id=\"T_596f8_row10_col1\" class=\"data row10 col1\" >65.04%</td>\n",
              "      <td id=\"T_596f8_row10_col2\" class=\"data row10 col2\" >72.19%</td>\n",
              "      <td id=\"T_596f8_row10_col3\" class=\"data row10 col3\" >66.69%</td>\n",
              "      <td id=\"T_596f8_row10_col4\" class=\"data row10 col4\" >unknown</td>\n",
              "      <td id=\"T_596f8_row10_col5\" class=\"data row10 col5\" >unknown</td>\n",
              "      <td id=\"T_596f8_row10_col6\" class=\"data row10 col6\" >mikedparrott</td>\n",
              "      <td id=\"T_596f8_row10_col7\" class=\"data row10 col7\" >1</td>\n",
              "    </tr>\n",
              "    <tr>\n",
              "      <th id=\"T_596f8_level0_row11\" class=\"row_heading level0 row11\" >11</th>\n",
              "      <td id=\"T_596f8_row11_col0\" class=\"data row11 col0\" >59.64%</td>\n",
              "      <td id=\"T_596f8_row11_col1\" class=\"data row11 col1\" >48.26%</td>\n",
              "      <td id=\"T_596f8_row11_col2\" class=\"data row11 col2\" >40.79%</td>\n",
              "      <td id=\"T_596f8_row11_col3\" class=\"data row11 col3\" >59.61%</td>\n",
              "      <td id=\"T_596f8_row11_col4\" class=\"data row11 col4\" >unknown</td>\n",
              "      <td id=\"T_596f8_row11_col5\" class=\"data row11 col5\" >unknown</td>\n",
              "      <td id=\"T_596f8_row11_col6\" class=\"data row11 col6\" >jiananyang81</td>\n",
              "      <td id=\"T_596f8_row11_col7\" class=\"data row11 col7\" >5</td>\n",
              "    </tr>\n",
              "    <tr>\n",
              "      <th id=\"T_596f8_level0_row12\" class=\"row_heading level0 row12\" >12</th>\n",
              "      <td id=\"T_596f8_row12_col0\" class=\"data row12 col0\" >59.64%</td>\n",
              "      <td id=\"T_596f8_row12_col1\" class=\"data row12 col1\" >48.26%</td>\n",
              "      <td id=\"T_596f8_row12_col2\" class=\"data row12 col2\" >40.79%</td>\n",
              "      <td id=\"T_596f8_row12_col3\" class=\"data row12 col3\" >59.61%</td>\n",
              "      <td id=\"T_596f8_row12_col4\" class=\"data row12 col4\" >unknown</td>\n",
              "      <td id=\"T_596f8_row12_col5\" class=\"data row12 col5\" >unknown</td>\n",
              "      <td id=\"T_596f8_row12_col6\" class=\"data row12 col6\" >jiananyang81</td>\n",
              "      <td id=\"T_596f8_row12_col7\" class=\"data row12 col7\" >4</td>\n",
              "    </tr>\n",
              "    <tr>\n",
              "      <th id=\"T_596f8_level0_row13\" class=\"row_heading level0 row13\" >13</th>\n",
              "      <td id=\"T_596f8_row13_col0\" class=\"data row13 col0\" >59.64%</td>\n",
              "      <td id=\"T_596f8_row13_col1\" class=\"data row13 col1\" >48.26%</td>\n",
              "      <td id=\"T_596f8_row13_col2\" class=\"data row13 col2\" >40.79%</td>\n",
              "      <td id=\"T_596f8_row13_col3\" class=\"data row13 col3\" >59.61%</td>\n",
              "      <td id=\"T_596f8_row13_col4\" class=\"data row13 col4\" >unknown</td>\n",
              "      <td id=\"T_596f8_row13_col5\" class=\"data row13 col5\" >unknown</td>\n",
              "      <td id=\"T_596f8_row13_col6\" class=\"data row13 col6\" >jiananyang81</td>\n",
              "      <td id=\"T_596f8_row13_col7\" class=\"data row13 col7\" >3</td>\n",
              "    </tr>\n",
              "    <tr>\n",
              "      <th id=\"T_596f8_level0_row14\" class=\"row_heading level0 row14\" >14</th>\n",
              "      <td id=\"T_596f8_row14_col0\" class=\"data row14 col0\" >59.64%</td>\n",
              "      <td id=\"T_596f8_row14_col1\" class=\"data row14 col1\" >48.26%</td>\n",
              "      <td id=\"T_596f8_row14_col2\" class=\"data row14 col2\" >40.79%</td>\n",
              "      <td id=\"T_596f8_row14_col3\" class=\"data row14 col3\" >59.61%</td>\n",
              "      <td id=\"T_596f8_row14_col4\" class=\"data row14 col4\" >unknown</td>\n",
              "      <td id=\"T_596f8_row14_col5\" class=\"data row14 col5\" >unknown</td>\n",
              "      <td id=\"T_596f8_row14_col6\" class=\"data row14 col6\" >jiananyang81</td>\n",
              "      <td id=\"T_596f8_row14_col7\" class=\"data row14 col7\" >2</td>\n",
              "    </tr>\n",
              "    <tr>\n",
              "      <th id=\"T_596f8_level0_row15\" class=\"row_heading level0 row15\" >15</th>\n",
              "      <td id=\"T_596f8_row15_col0\" class=\"data row15 col0\" >59.64%</td>\n",
              "      <td id=\"T_596f8_row15_col1\" class=\"data row15 col1\" >48.26%</td>\n",
              "      <td id=\"T_596f8_row15_col2\" class=\"data row15 col2\" >40.79%</td>\n",
              "      <td id=\"T_596f8_row15_col3\" class=\"data row15 col3\" >59.61%</td>\n",
              "      <td id=\"T_596f8_row15_col4\" class=\"data row15 col4\" >unknown</td>\n",
              "      <td id=\"T_596f8_row15_col5\" class=\"data row15 col5\" >unknown</td>\n",
              "      <td id=\"T_596f8_row15_col6\" class=\"data row15 col6\" >jiananyang81</td>\n",
              "      <td id=\"T_596f8_row15_col7\" class=\"data row15 col7\" >6</td>\n",
              "    </tr>\n",
              "    <tr>\n",
              "      <th id=\"T_596f8_level0_row16\" class=\"row_heading level0 row16\" >16</th>\n",
              "      <td id=\"T_596f8_row16_col0\" class=\"data row16 col0\" >33.31%</td>\n",
              "      <td id=\"T_596f8_row16_col1\" class=\"data row16 col1\" >16.66%</td>\n",
              "      <td id=\"T_596f8_row16_col2\" class=\"data row16 col2\" >11.10%</td>\n",
              "      <td id=\"T_596f8_row16_col3\" class=\"data row16 col3\" >33.33%</td>\n",
              "      <td id=\"T_596f8_row16_col4\" class=\"data row16 col4\" >unknown</td>\n",
              "      <td id=\"T_596f8_row16_col5\" class=\"data row16 col5\" >unknown</td>\n",
              "      <td id=\"T_596f8_row16_col6\" class=\"data row16 col6\" >xutian0117</td>\n",
              "      <td id=\"T_596f8_row16_col7\" class=\"data row16 col7\" >17</td>\n",
              "    </tr>\n",
              "  </tbody>\n",
              "</table>\n"
            ]
          },
          "metadata": {},
          "execution_count": 42
        }
      ],
      "source": [
        "data = experiment.get_leaderboard()\n",
        "experiment.stylize_leaderboard(data)"
      ]
    },
    {
      "cell_type": "markdown",
      "metadata": {
        "id": "A8b4ghs6JRwQ"
      },
      "source": [
        "## Try to use augmented data to rerun at least one model and submit it to the leaderboard."
      ]
    },
    {
      "cell_type": "code",
      "execution_count": 33,
      "metadata": {
        "id": "HJMs9rjtJSxu",
        "colab": {
          "base_uri": "https://localhost:8080/"
        },
        "outputId": "11c7769e-fe84-4d6e-aca4-6db644d38ccf"
      },
      "outputs": [
        {
          "output_type": "stream",
          "name": "stdout",
          "text": [
            "Epoch 1/10\n",
            "85/85 [==============================] - 16s 102ms/step - loss: 1.3040 - accuracy: 0.3354 - val_loss: 1.0878 - val_accuracy: 0.4171\n",
            "Epoch 2/10\n",
            "85/85 [==============================] - 8s 99ms/step - loss: 1.0681 - accuracy: 0.4360 - val_loss: 0.8807 - val_accuracy: 0.6412\n",
            "Epoch 3/10\n",
            "85/85 [==============================] - 8s 96ms/step - loss: 0.7882 - accuracy: 0.6646 - val_loss: 0.8141 - val_accuracy: 0.5592\n",
            "Epoch 4/10\n",
            "85/85 [==============================] - 9s 100ms/step - loss: 0.5347 - accuracy: 0.7989 - val_loss: 0.4241 - val_accuracy: 0.8233\n",
            "Epoch 5/10\n",
            "85/85 [==============================] - 9s 100ms/step - loss: 0.4317 - accuracy: 0.8404 - val_loss: 0.3516 - val_accuracy: 0.8543\n",
            "Epoch 6/10\n",
            "85/85 [==============================] - 9s 100ms/step - loss: 0.4063 - accuracy: 0.8363 - val_loss: 0.3435 - val_accuracy: 0.8670\n",
            "Epoch 7/10\n",
            "85/85 [==============================] - 8s 95ms/step - loss: 0.3391 - accuracy: 0.8742 - val_loss: 0.2968 - val_accuracy: 0.8852\n",
            "Epoch 8/10\n",
            "85/85 [==============================] - 8s 99ms/step - loss: 0.2629 - accuracy: 0.9094 - val_loss: 0.2840 - val_accuracy: 0.8871\n",
            "Epoch 9/10\n",
            "85/85 [==============================] - 8s 97ms/step - loss: 0.2140 - accuracy: 0.9247 - val_loss: 0.2102 - val_accuracy: 0.9308\n",
            "Epoch 10/10\n",
            "75/85 [=========================>....] - ETA: 0s - loss: 0.2576 - accuracy: 0.9026"
          ]
        },
        {
          "output_type": "stream",
          "name": "stderr",
          "text": [
            "WARNING:tensorflow:Your input ran out of data; interrupting training. Make sure that your dataset or generator can generate at least `steps_per_epoch * epochs` batches (in this case, 856.5625 batches). You may need to use the repeat() function when building your dataset.\n"
          ]
        },
        {
          "output_type": "stream",
          "name": "stdout",
          "text": [
            "\b\b\b\b\b\b\b\b\b\b\b\b\b\b\b\b\b\b\b\b\b\b\b\b\b\b\b\b\b\b\b\b\b\b\b\b\b\b\b\b\b\b\b\b\b\b\b\b\b\b\b\b\b\b\b\b\b\b\b\b\b\b\b\b\b\b\b\b\b\b\b\b\b\b\b\b\b\b\b\b\b\b\r85/85 [==============================] - 8s 88ms/step - loss: 0.2575 - accuracy: 0.9030 - val_loss: 0.2745 - val_accuracy: 0.9016\n"
          ]
        },
        {
          "output_type": "execute_result",
          "data": {
            "text/plain": [
              "<keras.src.callbacks.History at 0x7fe6c15bec50>"
            ]
          },
          "metadata": {},
          "execution_count": 33
        }
      ],
      "source": [
        "from tensorflow.keras.preprocessing.image import ImageDataGenerator\n",
        "from tensorflow.keras.applications import VGG16\n",
        "from tensorflow.keras import layers, Model\n",
        "datagen = ImageDataGenerator(\n",
        "    rotation_range=40,\n",
        "    width_shift_range=0.2,\n",
        "    height_shift_range=0.2,\n",
        "    shear_range=0.2,\n",
        "    zoom_range=0.2,\n",
        "    horizontal_flip=True,\n",
        "    fill_mode='nearest'\n",
        ")\n",
        "base_model = VGG16(weights='imagenet', include_top=False, input_shape=(192, 192, 3))\n",
        "x = layers.Flatten()(base_model.output)\n",
        "x = layers.Dense(256, activation='relu')(x)\n",
        "x = layers.Dropout(0.5)(x)\n",
        "x = layers.Dense(3, activation='softmax')(x)\n",
        "\n",
        "model_aug = Model(base_model.input, x)\n",
        "model_aug.compile(optimizer='adam', loss='categorical_crossentropy', metrics=['accuracy'])\n",
        "\n",
        "model_aug.fit(X_train, y_train, epochs=10, validation_split=0.2,steps_per_epoch=len(X_train) / 32)\n"
      ]
    },
    {
      "cell_type": "markdown",
      "source": [
        "### Discusse the Results\n",
        "\n",
        "Model 4 increased the diversity and amount of training data, helping the model generalize better, with training accuracy ~90.30% and validation accuracy ~90.16%"
      ],
      "metadata": {
        "id": "ofZmMCHiSLxH"
      }
    },
    {
      "cell_type": "code",
      "execution_count": 34,
      "metadata": {
        "id": "Sn8jcNzfJevR",
        "colab": {
          "base_uri": "https://localhost:8080/"
        },
        "outputId": "0dd76ab1-9819-4f6b-bc7c-b29cbdec4510"
      },
      "outputs": [
        {
          "output_type": "stream",
          "name": "stdout",
          "text": [
            "41/41 [==============================] - 3s 62ms/step\n"
          ]
        }
      ],
      "source": [
        "#Use X_test data to generate model predictions and make leaderboard submission\n",
        "\n",
        "#Generate and save predictions\n",
        "\n",
        "#Load preprocessed data\n",
        "#If you run out of Colab memory restart runtime, reload data and try again\n",
        "import pickle\n",
        "\n",
        "# Open the file in binary mode\n",
        "with open('X_test.pkl', 'rb') as file:\n",
        "    # Call load method to deserialze\n",
        "    X_test = pickle.load(file)\n",
        "\n",
        "# Open the file in binary mode\n",
        "with open('y_train.pkl', 'rb') as file:\n",
        "    # Call load method to deserialze\n",
        "    y_train = pickle.load(file)\n",
        "\n",
        "prediction_column_index=model_aug.predict(X_test).argmax(axis=1)\n",
        "\n",
        "# extract correct prediction labels\n",
        "prediction_labels = [y_train.columns[i] for i in prediction_column_index]"
      ]
    },
    {
      "cell_type": "code",
      "execution_count": 36,
      "metadata": {
        "id": "XJYvLmA9JekZ",
        "colab": {
          "base_uri": "https://localhost:8080/"
        },
        "outputId": "5d640621-f904-4274-b611-0e0f73d726f5"
      },
      "outputs": [
        {
          "output_type": "stream",
          "name": "stdout",
          "text": [
            "Timeout: Model to ONNX conversion is taking longer than expected. This can be the case for big models.\n",
            "Do you want to keep trying (1) or submit predictions only (2)? 2\n",
            "\n",
            "Insert search tags to help users find your model (optional): \n",
            "Provide any useful notes about your model (optional): \n",
            "Your model has been submitted to experiment as model version 14.\n",
            "\n",
            "Visit your Model Playground Page for more.\n",
            "https://www.modelshare.ai/detail/model:3867\n"
          ]
        }
      ],
      "source": [
        "# Submit Model 3 to Competition Leaderboard\n",
        "experiment.submit_model(model= model_aug,\n",
        "                                 preprocessor = None,\n",
        "                                 prediction_submission=prediction_labels)"
      ]
    },
    {
      "cell_type": "code",
      "execution_count": 43,
      "metadata": {
        "id": "KE5aeB8rLQWF",
        "colab": {
          "base_uri": "https://localhost:8080/",
          "height": 582
        },
        "outputId": "494eb371-f077-45a9-c55c-ae95dd235974"
      },
      "outputs": [
        {
          "output_type": "execute_result",
          "data": {
            "text/plain": [
              "<pandas.io.formats.style.Styler at 0x7fe7259ab9d0>"
            ],
            "text/html": [
              "<style type=\"text/css\">\n",
              "#T_badc1_row0_col0, #T_badc1_row1_col0 {\n",
              "  text-align: center;\n",
              "  width: 10em;\n",
              "  background: linear-gradient(90deg, #f5f8d6 90.3%, transparent 90.3%);\n",
              "  color: #251e1b;\n",
              "  font-size: 12px;\n",
              "}\n",
              "#T_badc1_row0_col1, #T_badc1_row1_col1 {\n",
              "  text-align: center;\n",
              "  width: 10em;\n",
              "  background: linear-gradient(90deg, #c778c8 90.2%, transparent 90.2%);\n",
              "  color: #251e1b;\n",
              "  font-size: 12px;\n",
              "}\n",
              "#T_badc1_row0_col2, #T_badc1_row1_col2 {\n",
              "  text-align: center;\n",
              "  width: 10em;\n",
              "  background: linear-gradient(90deg, #ff4971 90.4%, transparent 90.4%);\n",
              "  color: #251e1b;\n",
              "  font-size: 12px;\n",
              "}\n",
              "#T_badc1_row0_col3, #T_badc1_row1_col3 {\n",
              "  text-align: center;\n",
              "  width: 10em;\n",
              "  background: linear-gradient(90deg, #aadbaa 90.3%, transparent 90.3%);\n",
              "  color: #251e1b;\n",
              "  font-size: 12px;\n",
              "}\n",
              "#T_badc1_row0_col4, #T_badc1_row0_col5, #T_badc1_row0_col6, #T_badc1_row0_col7, #T_badc1_row1_col4, #T_badc1_row1_col5, #T_badc1_row1_col6, #T_badc1_row1_col7, #T_badc1_row2_col4, #T_badc1_row2_col5, #T_badc1_row2_col6, #T_badc1_row2_col7, #T_badc1_row3_col4, #T_badc1_row3_col5, #T_badc1_row3_col6, #T_badc1_row3_col7, #T_badc1_row4_col4, #T_badc1_row4_col5, #T_badc1_row4_col6, #T_badc1_row4_col7, #T_badc1_row5_col4, #T_badc1_row5_col5, #T_badc1_row5_col6, #T_badc1_row5_col7, #T_badc1_row6_col4, #T_badc1_row6_col5, #T_badc1_row6_col6, #T_badc1_row6_col7, #T_badc1_row7_col4, #T_badc1_row7_col5, #T_badc1_row7_col6, #T_badc1_row7_col7, #T_badc1_row8_col4, #T_badc1_row8_col5, #T_badc1_row8_col6, #T_badc1_row8_col7, #T_badc1_row9_col4, #T_badc1_row9_col5, #T_badc1_row9_col6, #T_badc1_row9_col7, #T_badc1_row10_col4, #T_badc1_row10_col5, #T_badc1_row10_col6, #T_badc1_row10_col7, #T_badc1_row11_col4, #T_badc1_row11_col5, #T_badc1_row11_col6, #T_badc1_row11_col7, #T_badc1_row12_col4, #T_badc1_row12_col5, #T_badc1_row12_col6, #T_badc1_row12_col7, #T_badc1_row13_col4, #T_badc1_row13_col5, #T_badc1_row13_col6, #T_badc1_row13_col7, #T_badc1_row14_col4, #T_badc1_row14_col5, #T_badc1_row14_col6, #T_badc1_row14_col7, #T_badc1_row15_col4, #T_badc1_row15_col5, #T_badc1_row15_col6, #T_badc1_row15_col7, #T_badc1_row16_col4, #T_badc1_row16_col5, #T_badc1_row16_col6, #T_badc1_row16_col7 {\n",
              "  text-align: center;\n",
              "}\n",
              "#T_badc1_row2_col0 {\n",
              "  text-align: center;\n",
              "  width: 10em;\n",
              "  background: linear-gradient(90deg, #f5f8d6 86.4%, transparent 86.4%);\n",
              "  color: #251e1b;\n",
              "  font-size: 12px;\n",
              "}\n",
              "#T_badc1_row2_col1 {\n",
              "  text-align: center;\n",
              "  width: 10em;\n",
              "  background: linear-gradient(90deg, #c778c8 85.9%, transparent 85.9%);\n",
              "  color: #251e1b;\n",
              "  font-size: 12px;\n",
              "}\n",
              "#T_badc1_row2_col2 {\n",
              "  text-align: center;\n",
              "  width: 10em;\n",
              "  background: linear-gradient(90deg, #ff4971 87.6%, transparent 87.6%);\n",
              "  color: #251e1b;\n",
              "  font-size: 12px;\n",
              "}\n",
              "#T_badc1_row2_col3 {\n",
              "  text-align: center;\n",
              "  width: 10em;\n",
              "  background: linear-gradient(90deg, #aadbaa 86.4%, transparent 86.4%);\n",
              "  color: #251e1b;\n",
              "  font-size: 12px;\n",
              "}\n",
              "#T_badc1_row3_col0 {\n",
              "  text-align: center;\n",
              "  width: 10em;\n",
              "  background: linear-gradient(90deg, #f5f8d6 75.8%, transparent 75.8%);\n",
              "  color: #251e1b;\n",
              "  font-size: 12px;\n",
              "}\n",
              "#T_badc1_row3_col1 {\n",
              "  text-align: center;\n",
              "  width: 10em;\n",
              "  background: linear-gradient(90deg, #c778c8 75.8%, transparent 75.8%);\n",
              "  color: #251e1b;\n",
              "  font-size: 12px;\n",
              "}\n",
              "#T_badc1_row3_col2 {\n",
              "  text-align: center;\n",
              "  width: 10em;\n",
              "  background: linear-gradient(90deg, #ff4971 76.5%, transparent 76.5%);\n",
              "  color: #251e1b;\n",
              "  font-size: 12px;\n",
              "}\n",
              "#T_badc1_row3_col3 {\n",
              "  text-align: center;\n",
              "  width: 10em;\n",
              "  background: linear-gradient(90deg, #aadbaa 75.8%, transparent 75.8%);\n",
              "  color: #251e1b;\n",
              "  font-size: 12px;\n",
              "}\n",
              "#T_badc1_row4_col0 {\n",
              "  text-align: center;\n",
              "  width: 10em;\n",
              "  background: linear-gradient(90deg, #f5f8d6 74.3%, transparent 74.3%);\n",
              "  color: #251e1b;\n",
              "  font-size: 12px;\n",
              "}\n",
              "#T_badc1_row4_col1 {\n",
              "  text-align: center;\n",
              "  width: 10em;\n",
              "  background: linear-gradient(90deg, #c778c8 74.1%, transparent 74.1%);\n",
              "  color: #251e1b;\n",
              "  font-size: 12px;\n",
              "}\n",
              "#T_badc1_row4_col2 {\n",
              "  text-align: center;\n",
              "  width: 10em;\n",
              "  background: linear-gradient(90deg, #ff4971 77.0%, transparent 77.0%);\n",
              "  color: #251e1b;\n",
              "  font-size: 12px;\n",
              "}\n",
              "#T_badc1_row4_col3 {\n",
              "  text-align: center;\n",
              "  width: 10em;\n",
              "  background: linear-gradient(90deg, #aadbaa 74.3%, transparent 74.3%);\n",
              "  color: #251e1b;\n",
              "  font-size: 12px;\n",
              "}\n",
              "#T_badc1_row5_col0, #T_badc1_row6_col0, #T_badc1_row7_col0, #T_badc1_row8_col0 {\n",
              "  text-align: center;\n",
              "  width: 10em;\n",
              "  background: linear-gradient(90deg, #f5f8d6 73.0%, transparent 73.0%);\n",
              "  color: #251e1b;\n",
              "  font-size: 12px;\n",
              "}\n",
              "#T_badc1_row5_col1, #T_badc1_row6_col1, #T_badc1_row7_col1, #T_badc1_row8_col1 {\n",
              "  text-align: center;\n",
              "  width: 10em;\n",
              "  background: linear-gradient(90deg, #c778c8 71.5%, transparent 71.5%);\n",
              "  color: #251e1b;\n",
              "  font-size: 12px;\n",
              "}\n",
              "#T_badc1_row5_col2, #T_badc1_row6_col2, #T_badc1_row7_col2, #T_badc1_row8_col2 {\n",
              "  text-align: center;\n",
              "  width: 10em;\n",
              "  background: linear-gradient(90deg, #ff4971 75.7%, transparent 75.7%);\n",
              "  color: #251e1b;\n",
              "  font-size: 12px;\n",
              "}\n",
              "#T_badc1_row5_col3, #T_badc1_row6_col3, #T_badc1_row7_col3, #T_badc1_row8_col3 {\n",
              "  text-align: center;\n",
              "  width: 10em;\n",
              "  background: linear-gradient(90deg, #aadbaa 73.0%, transparent 73.0%);\n",
              "  color: #251e1b;\n",
              "  font-size: 12px;\n",
              "}\n",
              "#T_badc1_row9_col0 {\n",
              "  text-align: center;\n",
              "  width: 10em;\n",
              "  background: linear-gradient(90deg, #f5f8d6 72.5%, transparent 72.5%);\n",
              "  color: #251e1b;\n",
              "  font-size: 12px;\n",
              "}\n",
              "#T_badc1_row9_col1 {\n",
              "  text-align: center;\n",
              "  width: 10em;\n",
              "  background: linear-gradient(90deg, #c778c8 71.8%, transparent 71.8%);\n",
              "  color: #251e1b;\n",
              "  font-size: 12px;\n",
              "}\n",
              "#T_badc1_row9_col2 {\n",
              "  text-align: center;\n",
              "  width: 10em;\n",
              "  background: linear-gradient(90deg, #ff4971 71.9%, transparent 71.9%);\n",
              "  color: #251e1b;\n",
              "  font-size: 12px;\n",
              "}\n",
              "#T_badc1_row9_col3 {\n",
              "  text-align: center;\n",
              "  width: 10em;\n",
              "  background: linear-gradient(90deg, #aadbaa 72.5%, transparent 72.5%);\n",
              "  color: #251e1b;\n",
              "  font-size: 12px;\n",
              "}\n",
              "#T_badc1_row10_col0 {\n",
              "  text-align: center;\n",
              "  width: 10em;\n",
              "  background: linear-gradient(90deg, #f5f8d6 66.7%, transparent 66.7%);\n",
              "  color: #251e1b;\n",
              "  font-size: 12px;\n",
              "}\n",
              "#T_badc1_row10_col1 {\n",
              "  text-align: center;\n",
              "  width: 10em;\n",
              "  background: linear-gradient(90deg, #c778c8 65.0%, transparent 65.0%);\n",
              "  color: #251e1b;\n",
              "  font-size: 12px;\n",
              "}\n",
              "#T_badc1_row10_col2 {\n",
              "  text-align: center;\n",
              "  width: 10em;\n",
              "  background: linear-gradient(90deg, #ff4971 72.2%, transparent 72.2%);\n",
              "  color: #251e1b;\n",
              "  font-size: 12px;\n",
              "}\n",
              "#T_badc1_row10_col3 {\n",
              "  text-align: center;\n",
              "  width: 10em;\n",
              "  background: linear-gradient(90deg, #aadbaa 66.7%, transparent 66.7%);\n",
              "  color: #251e1b;\n",
              "  font-size: 12px;\n",
              "}\n",
              "#T_badc1_row11_col0, #T_badc1_row12_col0, #T_badc1_row13_col0, #T_badc1_row14_col0, #T_badc1_row15_col0 {\n",
              "  text-align: center;\n",
              "  width: 10em;\n",
              "  background: linear-gradient(90deg, #f5f8d6 59.6%, transparent 59.6%);\n",
              "  color: #251e1b;\n",
              "  font-size: 12px;\n",
              "}\n",
              "#T_badc1_row11_col1, #T_badc1_row12_col1, #T_badc1_row13_col1, #T_badc1_row14_col1, #T_badc1_row15_col1 {\n",
              "  text-align: center;\n",
              "  width: 10em;\n",
              "  background: linear-gradient(90deg, #c778c8 48.3%, transparent 48.3%);\n",
              "  color: #251e1b;\n",
              "  font-size: 12px;\n",
              "}\n",
              "#T_badc1_row11_col2, #T_badc1_row12_col2, #T_badc1_row13_col2, #T_badc1_row14_col2, #T_badc1_row15_col2 {\n",
              "  text-align: center;\n",
              "  width: 10em;\n",
              "  background: linear-gradient(90deg, #ff4971 40.8%, transparent 40.8%);\n",
              "  color: #251e1b;\n",
              "  font-size: 12px;\n",
              "}\n",
              "#T_badc1_row11_col3, #T_badc1_row12_col3, #T_badc1_row13_col3, #T_badc1_row14_col3, #T_badc1_row15_col3 {\n",
              "  text-align: center;\n",
              "  width: 10em;\n",
              "  background: linear-gradient(90deg, #aadbaa 59.6%, transparent 59.6%);\n",
              "  color: #251e1b;\n",
              "  font-size: 12px;\n",
              "}\n",
              "#T_badc1_row16_col0 {\n",
              "  text-align: center;\n",
              "  width: 10em;\n",
              "  background: linear-gradient(90deg, #f5f8d6 33.3%, transparent 33.3%);\n",
              "  color: #251e1b;\n",
              "  font-size: 12px;\n",
              "}\n",
              "#T_badc1_row16_col1 {\n",
              "  text-align: center;\n",
              "  width: 10em;\n",
              "  background: linear-gradient(90deg, #c778c8 16.7%, transparent 16.7%);\n",
              "  color: #251e1b;\n",
              "  font-size: 12px;\n",
              "}\n",
              "#T_badc1_row16_col2 {\n",
              "  text-align: center;\n",
              "  width: 10em;\n",
              "  background: linear-gradient(90deg, #ff4971 11.1%, transparent 11.1%);\n",
              "  color: #251e1b;\n",
              "  font-size: 12px;\n",
              "}\n",
              "#T_badc1_row16_col3 {\n",
              "  text-align: center;\n",
              "  width: 10em;\n",
              "  background: linear-gradient(90deg, #aadbaa 33.3%, transparent 33.3%);\n",
              "  color: #251e1b;\n",
              "  font-size: 12px;\n",
              "}\n",
              "</style>\n",
              "<table id=\"T_badc1\" class=\"dataframe\">\n",
              "  <thead>\n",
              "    <tr>\n",
              "      <th class=\"blank level0\" >&nbsp;</th>\n",
              "      <th id=\"T_badc1_level0_col0\" class=\"col_heading level0 col0\" >accuracy</th>\n",
              "      <th id=\"T_badc1_level0_col1\" class=\"col_heading level0 col1\" >f1_score</th>\n",
              "      <th id=\"T_badc1_level0_col2\" class=\"col_heading level0 col2\" >precision</th>\n",
              "      <th id=\"T_badc1_level0_col3\" class=\"col_heading level0 col3\" >recall</th>\n",
              "      <th id=\"T_badc1_level0_col4\" class=\"col_heading level0 col4\" >ml_framework</th>\n",
              "      <th id=\"T_badc1_level0_col5\" class=\"col_heading level0 col5\" >model_type</th>\n",
              "      <th id=\"T_badc1_level0_col6\" class=\"col_heading level0 col6\" >username</th>\n",
              "      <th id=\"T_badc1_level0_col7\" class=\"col_heading level0 col7\" >version</th>\n",
              "    </tr>\n",
              "  </thead>\n",
              "  <tbody>\n",
              "    <tr>\n",
              "      <th id=\"T_badc1_level0_row0\" class=\"row_heading level0 row0\" >0</th>\n",
              "      <td id=\"T_badc1_row0_col0\" class=\"data row0 col0\" >90.32%</td>\n",
              "      <td id=\"T_badc1_row0_col1\" class=\"data row0 col1\" >90.22%</td>\n",
              "      <td id=\"T_badc1_row0_col2\" class=\"data row0 col2\" >90.36%</td>\n",
              "      <td id=\"T_badc1_row0_col3\" class=\"data row0 col3\" >90.31%</td>\n",
              "      <td id=\"T_badc1_row0_col4\" class=\"data row0 col4\" >unknown</td>\n",
              "      <td id=\"T_badc1_row0_col5\" class=\"data row0 col5\" >unknown</td>\n",
              "      <td id=\"T_badc1_row0_col6\" class=\"data row0 col6\" >xutian0117</td>\n",
              "      <td id=\"T_badc1_row0_col7\" class=\"data row0 col7\" >15</td>\n",
              "    </tr>\n",
              "    <tr>\n",
              "      <th id=\"T_badc1_level0_row1\" class=\"row_heading level0 row1\" >1</th>\n",
              "      <td id=\"T_badc1_row1_col0\" class=\"data row1 col0\" >90.32%</td>\n",
              "      <td id=\"T_badc1_row1_col1\" class=\"data row1 col1\" >90.22%</td>\n",
              "      <td id=\"T_badc1_row1_col2\" class=\"data row1 col2\" >90.36%</td>\n",
              "      <td id=\"T_badc1_row1_col3\" class=\"data row1 col3\" >90.31%</td>\n",
              "      <td id=\"T_badc1_row1_col4\" class=\"data row1 col4\" >unknown</td>\n",
              "      <td id=\"T_badc1_row1_col5\" class=\"data row1 col5\" >unknown</td>\n",
              "      <td id=\"T_badc1_row1_col6\" class=\"data row1 col6\" >xutian0117</td>\n",
              "      <td id=\"T_badc1_row1_col7\" class=\"data row1 col7\" >14</td>\n",
              "    </tr>\n",
              "    <tr>\n",
              "      <th id=\"T_badc1_level0_row2\" class=\"row_heading level0 row2\" >2</th>\n",
              "      <td id=\"T_badc1_row2_col0\" class=\"data row2 col0\" >86.37%</td>\n",
              "      <td id=\"T_badc1_row2_col1\" class=\"data row2 col1\" >85.93%</td>\n",
              "      <td id=\"T_badc1_row2_col2\" class=\"data row2 col2\" >87.61%</td>\n",
              "      <td id=\"T_badc1_row2_col3\" class=\"data row2 col3\" >86.36%</td>\n",
              "      <td id=\"T_badc1_row2_col4\" class=\"data row2 col4\" >unknown</td>\n",
              "      <td id=\"T_badc1_row2_col5\" class=\"data row2 col5\" >unknown</td>\n",
              "      <td id=\"T_badc1_row2_col6\" class=\"data row2 col6\" >xutian0117</td>\n",
              "      <td id=\"T_badc1_row2_col7\" class=\"data row2 col7\" >16</td>\n",
              "    </tr>\n",
              "    <tr>\n",
              "      <th id=\"T_badc1_level0_row3\" class=\"row_heading level0 row3\" >3</th>\n",
              "      <td id=\"T_badc1_row3_col0\" class=\"data row3 col0\" >75.76%</td>\n",
              "      <td id=\"T_badc1_row3_col1\" class=\"data row3 col1\" >75.79%</td>\n",
              "      <td id=\"T_badc1_row3_col2\" class=\"data row3 col2\" >76.52%</td>\n",
              "      <td id=\"T_badc1_row3_col3\" class=\"data row3 col3\" >75.76%</td>\n",
              "      <td id=\"T_badc1_row3_col4\" class=\"data row3 col4\" >unknown</td>\n",
              "      <td id=\"T_badc1_row3_col5\" class=\"data row3 col5\" >unknown</td>\n",
              "      <td id=\"T_badc1_row3_col6\" class=\"data row3 col6\" >xutian0117</td>\n",
              "      <td id=\"T_badc1_row3_col7\" class=\"data row3 col7\" >12</td>\n",
              "    </tr>\n",
              "    <tr>\n",
              "      <th id=\"T_badc1_level0_row4\" class=\"row_heading level0 row4\" >4</th>\n",
              "      <td id=\"T_badc1_row4_col0\" class=\"data row4 col0\" >74.28%</td>\n",
              "      <td id=\"T_badc1_row4_col1\" class=\"data row4 col1\" >74.15%</td>\n",
              "      <td id=\"T_badc1_row4_col2\" class=\"data row4 col2\" >76.97%</td>\n",
              "      <td id=\"T_badc1_row4_col3\" class=\"data row4 col3\" >74.29%</td>\n",
              "      <td id=\"T_badc1_row4_col4\" class=\"data row4 col4\" >unknown</td>\n",
              "      <td id=\"T_badc1_row4_col5\" class=\"data row4 col5\" >unknown</td>\n",
              "      <td id=\"T_badc1_row4_col6\" class=\"data row4 col6\" >xutian0117</td>\n",
              "      <td id=\"T_badc1_row4_col7\" class=\"data row4 col7\" >13</td>\n",
              "    </tr>\n",
              "    <tr>\n",
              "      <th id=\"T_badc1_level0_row5\" class=\"row_heading level0 row5\" >5</th>\n",
              "      <td id=\"T_badc1_row5_col0\" class=\"data row5 col0\" >73.04%</td>\n",
              "      <td id=\"T_badc1_row5_col1\" class=\"data row5 col1\" >71.53%</td>\n",
              "      <td id=\"T_badc1_row5_col2\" class=\"data row5 col2\" >75.72%</td>\n",
              "      <td id=\"T_badc1_row5_col3\" class=\"data row5 col3\" >73.03%</td>\n",
              "      <td id=\"T_badc1_row5_col4\" class=\"data row5 col4\" >unknown</td>\n",
              "      <td id=\"T_badc1_row5_col5\" class=\"data row5 col5\" >unknown</td>\n",
              "      <td id=\"T_badc1_row5_col6\" class=\"data row5 col6\" >jiananyang81</td>\n",
              "      <td id=\"T_badc1_row5_col7\" class=\"data row5 col7\" >9</td>\n",
              "    </tr>\n",
              "    <tr>\n",
              "      <th id=\"T_badc1_level0_row6\" class=\"row_heading level0 row6\" >6</th>\n",
              "      <td id=\"T_badc1_row6_col0\" class=\"data row6 col0\" >73.04%</td>\n",
              "      <td id=\"T_badc1_row6_col1\" class=\"data row6 col1\" >71.53%</td>\n",
              "      <td id=\"T_badc1_row6_col2\" class=\"data row6 col2\" >75.72%</td>\n",
              "      <td id=\"T_badc1_row6_col3\" class=\"data row6 col3\" >73.03%</td>\n",
              "      <td id=\"T_badc1_row6_col4\" class=\"data row6 col4\" >unknown</td>\n",
              "      <td id=\"T_badc1_row6_col5\" class=\"data row6 col5\" >unknown</td>\n",
              "      <td id=\"T_badc1_row6_col6\" class=\"data row6 col6\" >jiananyang81</td>\n",
              "      <td id=\"T_badc1_row6_col7\" class=\"data row6 col7\" >7</td>\n",
              "    </tr>\n",
              "    <tr>\n",
              "      <th id=\"T_badc1_level0_row7\" class=\"row_heading level0 row7\" >7</th>\n",
              "      <td id=\"T_badc1_row7_col0\" class=\"data row7 col0\" >73.04%</td>\n",
              "      <td id=\"T_badc1_row7_col1\" class=\"data row7 col1\" >71.53%</td>\n",
              "      <td id=\"T_badc1_row7_col2\" class=\"data row7 col2\" >75.72%</td>\n",
              "      <td id=\"T_badc1_row7_col3\" class=\"data row7 col3\" >73.03%</td>\n",
              "      <td id=\"T_badc1_row7_col4\" class=\"data row7 col4\" >unknown</td>\n",
              "      <td id=\"T_badc1_row7_col5\" class=\"data row7 col5\" >unknown</td>\n",
              "      <td id=\"T_badc1_row7_col6\" class=\"data row7 col6\" >jiananyang81</td>\n",
              "      <td id=\"T_badc1_row7_col7\" class=\"data row7 col7\" >8</td>\n",
              "    </tr>\n",
              "    <tr>\n",
              "      <th id=\"T_badc1_level0_row8\" class=\"row_heading level0 row8\" >8</th>\n",
              "      <td id=\"T_badc1_row8_col0\" class=\"data row8 col0\" >73.04%</td>\n",
              "      <td id=\"T_badc1_row8_col1\" class=\"data row8 col1\" >71.53%</td>\n",
              "      <td id=\"T_badc1_row8_col2\" class=\"data row8 col2\" >75.72%</td>\n",
              "      <td id=\"T_badc1_row8_col3\" class=\"data row8 col3\" >73.03%</td>\n",
              "      <td id=\"T_badc1_row8_col4\" class=\"data row8 col4\" >unknown</td>\n",
              "      <td id=\"T_badc1_row8_col5\" class=\"data row8 col5\" >unknown</td>\n",
              "      <td id=\"T_badc1_row8_col6\" class=\"data row8 col6\" >jiananyang81</td>\n",
              "      <td id=\"T_badc1_row8_col7\" class=\"data row8 col7\" >10</td>\n",
              "    </tr>\n",
              "    <tr>\n",
              "      <th id=\"T_badc1_level0_row9\" class=\"row_heading level0 row9\" >9</th>\n",
              "      <td id=\"T_badc1_row9_col0\" class=\"data row9 col0\" >72.50%</td>\n",
              "      <td id=\"T_badc1_row9_col1\" class=\"data row9 col1\" >71.79%</td>\n",
              "      <td id=\"T_badc1_row9_col2\" class=\"data row9 col2\" >71.89%</td>\n",
              "      <td id=\"T_badc1_row9_col3\" class=\"data row9 col3\" >72.49%</td>\n",
              "      <td id=\"T_badc1_row9_col4\" class=\"data row9 col4\" >unknown</td>\n",
              "      <td id=\"T_badc1_row9_col5\" class=\"data row9 col5\" >unknown</td>\n",
              "      <td id=\"T_badc1_row9_col6\" class=\"data row9 col6\" >xutian0117</td>\n",
              "      <td id=\"T_badc1_row9_col7\" class=\"data row9 col7\" >11</td>\n",
              "    </tr>\n",
              "    <tr>\n",
              "      <th id=\"T_badc1_level0_row10\" class=\"row_heading level0 row10\" >10</th>\n",
              "      <td id=\"T_badc1_row10_col0\" class=\"data row10 col0\" >66.69%</td>\n",
              "      <td id=\"T_badc1_row10_col1\" class=\"data row10 col1\" >65.04%</td>\n",
              "      <td id=\"T_badc1_row10_col2\" class=\"data row10 col2\" >72.19%</td>\n",
              "      <td id=\"T_badc1_row10_col3\" class=\"data row10 col3\" >66.69%</td>\n",
              "      <td id=\"T_badc1_row10_col4\" class=\"data row10 col4\" >unknown</td>\n",
              "      <td id=\"T_badc1_row10_col5\" class=\"data row10 col5\" >unknown</td>\n",
              "      <td id=\"T_badc1_row10_col6\" class=\"data row10 col6\" >mikedparrott</td>\n",
              "      <td id=\"T_badc1_row10_col7\" class=\"data row10 col7\" >1</td>\n",
              "    </tr>\n",
              "    <tr>\n",
              "      <th id=\"T_badc1_level0_row11\" class=\"row_heading level0 row11\" >11</th>\n",
              "      <td id=\"T_badc1_row11_col0\" class=\"data row11 col0\" >59.64%</td>\n",
              "      <td id=\"T_badc1_row11_col1\" class=\"data row11 col1\" >48.26%</td>\n",
              "      <td id=\"T_badc1_row11_col2\" class=\"data row11 col2\" >40.79%</td>\n",
              "      <td id=\"T_badc1_row11_col3\" class=\"data row11 col3\" >59.61%</td>\n",
              "      <td id=\"T_badc1_row11_col4\" class=\"data row11 col4\" >unknown</td>\n",
              "      <td id=\"T_badc1_row11_col5\" class=\"data row11 col5\" >unknown</td>\n",
              "      <td id=\"T_badc1_row11_col6\" class=\"data row11 col6\" >jiananyang81</td>\n",
              "      <td id=\"T_badc1_row11_col7\" class=\"data row11 col7\" >5</td>\n",
              "    </tr>\n",
              "    <tr>\n",
              "      <th id=\"T_badc1_level0_row12\" class=\"row_heading level0 row12\" >12</th>\n",
              "      <td id=\"T_badc1_row12_col0\" class=\"data row12 col0\" >59.64%</td>\n",
              "      <td id=\"T_badc1_row12_col1\" class=\"data row12 col1\" >48.26%</td>\n",
              "      <td id=\"T_badc1_row12_col2\" class=\"data row12 col2\" >40.79%</td>\n",
              "      <td id=\"T_badc1_row12_col3\" class=\"data row12 col3\" >59.61%</td>\n",
              "      <td id=\"T_badc1_row12_col4\" class=\"data row12 col4\" >unknown</td>\n",
              "      <td id=\"T_badc1_row12_col5\" class=\"data row12 col5\" >unknown</td>\n",
              "      <td id=\"T_badc1_row12_col6\" class=\"data row12 col6\" >jiananyang81</td>\n",
              "      <td id=\"T_badc1_row12_col7\" class=\"data row12 col7\" >4</td>\n",
              "    </tr>\n",
              "    <tr>\n",
              "      <th id=\"T_badc1_level0_row13\" class=\"row_heading level0 row13\" >13</th>\n",
              "      <td id=\"T_badc1_row13_col0\" class=\"data row13 col0\" >59.64%</td>\n",
              "      <td id=\"T_badc1_row13_col1\" class=\"data row13 col1\" >48.26%</td>\n",
              "      <td id=\"T_badc1_row13_col2\" class=\"data row13 col2\" >40.79%</td>\n",
              "      <td id=\"T_badc1_row13_col3\" class=\"data row13 col3\" >59.61%</td>\n",
              "      <td id=\"T_badc1_row13_col4\" class=\"data row13 col4\" >unknown</td>\n",
              "      <td id=\"T_badc1_row13_col5\" class=\"data row13 col5\" >unknown</td>\n",
              "      <td id=\"T_badc1_row13_col6\" class=\"data row13 col6\" >jiananyang81</td>\n",
              "      <td id=\"T_badc1_row13_col7\" class=\"data row13 col7\" >3</td>\n",
              "    </tr>\n",
              "    <tr>\n",
              "      <th id=\"T_badc1_level0_row14\" class=\"row_heading level0 row14\" >14</th>\n",
              "      <td id=\"T_badc1_row14_col0\" class=\"data row14 col0\" >59.64%</td>\n",
              "      <td id=\"T_badc1_row14_col1\" class=\"data row14 col1\" >48.26%</td>\n",
              "      <td id=\"T_badc1_row14_col2\" class=\"data row14 col2\" >40.79%</td>\n",
              "      <td id=\"T_badc1_row14_col3\" class=\"data row14 col3\" >59.61%</td>\n",
              "      <td id=\"T_badc1_row14_col4\" class=\"data row14 col4\" >unknown</td>\n",
              "      <td id=\"T_badc1_row14_col5\" class=\"data row14 col5\" >unknown</td>\n",
              "      <td id=\"T_badc1_row14_col6\" class=\"data row14 col6\" >jiananyang81</td>\n",
              "      <td id=\"T_badc1_row14_col7\" class=\"data row14 col7\" >2</td>\n",
              "    </tr>\n",
              "    <tr>\n",
              "      <th id=\"T_badc1_level0_row15\" class=\"row_heading level0 row15\" >15</th>\n",
              "      <td id=\"T_badc1_row15_col0\" class=\"data row15 col0\" >59.64%</td>\n",
              "      <td id=\"T_badc1_row15_col1\" class=\"data row15 col1\" >48.26%</td>\n",
              "      <td id=\"T_badc1_row15_col2\" class=\"data row15 col2\" >40.79%</td>\n",
              "      <td id=\"T_badc1_row15_col3\" class=\"data row15 col3\" >59.61%</td>\n",
              "      <td id=\"T_badc1_row15_col4\" class=\"data row15 col4\" >unknown</td>\n",
              "      <td id=\"T_badc1_row15_col5\" class=\"data row15 col5\" >unknown</td>\n",
              "      <td id=\"T_badc1_row15_col6\" class=\"data row15 col6\" >jiananyang81</td>\n",
              "      <td id=\"T_badc1_row15_col7\" class=\"data row15 col7\" >6</td>\n",
              "    </tr>\n",
              "    <tr>\n",
              "      <th id=\"T_badc1_level0_row16\" class=\"row_heading level0 row16\" >16</th>\n",
              "      <td id=\"T_badc1_row16_col0\" class=\"data row16 col0\" >33.31%</td>\n",
              "      <td id=\"T_badc1_row16_col1\" class=\"data row16 col1\" >16.66%</td>\n",
              "      <td id=\"T_badc1_row16_col2\" class=\"data row16 col2\" >11.10%</td>\n",
              "      <td id=\"T_badc1_row16_col3\" class=\"data row16 col3\" >33.33%</td>\n",
              "      <td id=\"T_badc1_row16_col4\" class=\"data row16 col4\" >unknown</td>\n",
              "      <td id=\"T_badc1_row16_col5\" class=\"data row16 col5\" >unknown</td>\n",
              "      <td id=\"T_badc1_row16_col6\" class=\"data row16 col6\" >xutian0117</td>\n",
              "      <td id=\"T_badc1_row16_col7\" class=\"data row16 col7\" >17</td>\n",
              "    </tr>\n",
              "  </tbody>\n",
              "</table>\n"
            ]
          },
          "metadata": {},
          "execution_count": 43
        }
      ],
      "source": [
        "data = experiment.get_leaderboard()\n",
        "experiment.stylize_leaderboard(data)"
      ]
    },
    {
      "cell_type": "markdown",
      "metadata": {
        "id": "ZA2fxR7SLQny"
      },
      "source": [
        "## Discuss which models you tried and which models performed better and point out relevant hyper-parameter values for successful models.\n",
        "\n"
      ]
    },
    {
      "cell_type": "markdown",
      "source": [
        "The VGG16 model with Transfer Learning (Model 2) and Data Augmentation (Model 4) yielded the best performances, with validation accuracies of ~91.26% and ~90.16% respectively. The success of these models can be attributed to the utilization of the pre-trained VGG16 model, allowing them to benefit from previously learned image features. Transfer learning and data augmentation strategies further enhanced their generalization capabilities, contributing to higher accuracy. Key hyperparameters that worked well include 10 epochs and applying various data augmentations (rotation, width shift, height shift, shear, zoom, and horizontal flip) in Model 4."
      ],
      "metadata": {
        "id": "meAqcbaCOt1y"
      }
    }
  ],
  "metadata": {
    "colab": {
      "toc_visible": true,
      "provenance": [],
      "gpuType": "A100"
    },
    "kernelspec": {
      "display_name": "Python 3",
      "name": "python3"
    },
    "accelerator": "GPU"
  },
  "nbformat": 4,
  "nbformat_minor": 0
}
